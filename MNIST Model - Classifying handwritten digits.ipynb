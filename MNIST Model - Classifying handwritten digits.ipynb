{
 "cells": [
  {
   "cell_type": "markdown",
   "metadata": {
    "id": "vtpytxKPZbWs"
   },
   "source": [
    "#### Load libraries and set random number generator seed"
   ]
  },
  {
   "cell_type": "code",
   "execution_count": 1,
   "metadata": {
    "id": "XgwU204-ZbWu"
   },
   "outputs": [],
   "source": [
    "import numpy as np\n",
    "import pandas as pd\n",
    "from sklearn import datasets\n",
    "import matplotlib.pyplot as plt\n",
    "from PIL import Image\n",
    "import seaborn as sns\n",
    "from sklearn.model_selection import train_test_split, cross_val_score, StratifiedKFold\n",
    "from sklearn.neural_network import MLPClassifier\n",
    "from sklearn.metrics import confusion_matrix, plot_confusion_matrix\n",
    "from sklearn.exceptions import ConvergenceWarning\n",
    "from sklearn.datasets  import load_digits\n",
    "from sklearn.linear_model import Perceptron\n"
   ]
  },
  {
   "cell_type": "code",
   "execution_count": 2,
   "metadata": {
    "id": "PVWQZGUEZbWy"
   },
   "outputs": [],
   "source": [
    "np.random.seed(42)"
   ]
  },
  {
   "cell_type": "markdown",
   "metadata": {
    "id": "iYwuZ6ltZbW0"
   },
   "source": [
    "#### Code the solution"
   ]
  },
  {
   "cell_type": "code",
   "execution_count": 3,
   "metadata": {
    "id": "h7NRQxw5ZbW4"
   },
   "outputs": [],
   "source": [
    "mnist = load_digits()"
   ]
  },
  {
   "cell_type": "code",
   "execution_count": 3,
   "metadata": {
    "id": "y6fJj6a-ga8A"
   },
   "outputs": [],
   "source": []
  },
  {
   "cell_type": "code",
   "execution_count": 4,
   "metadata": {
    "id": "K1tei3gfZbW6"
   },
   "outputs": [],
   "source": [
    "\n",
    "n_samples = len(mnist.images)\n",
    "images = mnist.images.reshape((n_samples, -1))\n",
    "labels = mnist.target\n",
    "X = images\n",
    "\n",
    "Y = labels\n",
    "X = X.astype(\"float32\")/255"
   ]
  },
  {
   "cell_type": "code",
   "execution_count": null,
   "metadata": {
    "id": "Ulxu-Nh2ADpK"
   },
   "outputs": [],
   "source": []
  },
  {
   "cell_type": "code",
   "execution_count": 5,
   "metadata": {
    "colab": {
     "base_uri": "https://localhost:8080/"
    },
    "id": "hE5sX8p7ZbW-",
    "outputId": "8603b003-3607-480e-e1ac-a763ca840cbf"
   },
   "outputs": [
    {
     "data": {
      "text/plain": [
       "((1437, 64), (1437,), (360, 64), (360,))"
      ]
     },
     "execution_count": 5,
     "metadata": {},
     "output_type": "execute_result"
    }
   ],
   "source": [
    "X_train, X_test, Y_train, Y_test = train_test_split(X, Y, test_size=0.2, random_state=0, stratify=Y)\n",
    "\n",
    "                                                \n",
    "X_train.shape, Y_train.shape, X_test.shape, Y_test.shape"
   ]
  },
  {
   "cell_type": "code",
   "execution_count": 6,
   "metadata": {
    "id": "14VnXv1vZbW9"
   },
   "outputs": [],
   "source": [
    "models = []\n",
    "models.append(MLPClassifier(random_state = 1, max_iter=10000))\n",
    "models.append(MLPClassifier(random_state = 1, max_iter=10000, hidden_layer_sizes=(400, 150, 50)))\n",
    "models.append(MLPClassifier(random_state = 1, max_iter=10000, hidden_layer_sizes=(64, 32, 8)))\n",
    "models.append(MLPClassifier(random_state = 1, max_iter=10000, hidden_layer_sizes=(32,16)))\n",
    "models.append(MLPClassifier(random_state = 1, max_iter=10000, hidden_layer_sizes=(120, 64, 16)))\n",
    "models.append(MLPClassifier(random_state = 1, max_iter=10000, hidden_layer_sizes=(320, 120, 32)))"
   ]
  },
  {
   "cell_type": "code",
   "execution_count": null,
   "metadata": {
    "id": "kepmxtvRAe_2"
   },
   "outputs": [],
   "source": []
  },
  {
   "cell_type": "code",
   "execution_count": 7,
   "metadata": {
    "colab": {
     "base_uri": "https://localhost:8080/"
    },
    "id": "YY4ulYM8_ZC9",
    "outputId": "3916fa42-caed-421b-b8fa-5ac3e615fd0d"
   },
   "outputs": [
    {
     "name": "stdout",
     "output_type": "stream",
     "text": [
      "Model 1\n",
      "[0.96 0.98 0.96 0.97 0.97]\n",
      "Model 2\n",
      "[0.95 0.98 0.95 0.96 0.95]\n",
      "Model 3\n",
      "[0.93 0.96 0.92 0.92 0.94]\n",
      "Model 4\n",
      "[0.94 0.95 0.91 0.95 0.94]\n",
      "Model 5\n",
      "[0.94 0.97 0.94 0.94 0.94]\n",
      "Model 6\n",
      "[0.94 0.97 0.94 0.95 0.95]\n"
     ]
    }
   ],
   "source": [
    "np.set_printoptions(precision=2)\n",
    "cross_val_scores = []\n",
    "for i, model in enumerate(models):\n",
    "  print(\"Model {0}\".format(i + 1))\n",
    "  cross_val_scores.append(cross_val_score(model, X_train, Y_train, cv = 5))\n",
    "  print(cross_val_scores[-1])\n"
   ]
  },
  {
   "cell_type": "code",
   "execution_count": 8,
   "metadata": {
    "id": "bsvOTnrgFXJw"
   },
   "outputs": [],
   "source": [
    "test_accuracies = []\n",
    "for model in models:\n",
    "  model.fit(X_train, Y_train)\n",
    "  test_accuracies.append(model.score(X_test, Y_test))"
   ]
  },
  {
   "cell_type": "code",
   "execution_count": 9,
   "metadata": {
    "colab": {
     "base_uri": "https://localhost:8080/"
    },
    "id": "M9Z1LH4mJpey",
    "outputId": "02851a5a-b405-49a3-98f8-6271a54d5d93"
   },
   "outputs": [
    {
     "data": {
      "text/plain": [
       "[0.9722222222222222,\n",
       " 0.9472222222222222,\n",
       " 0.9388888888888889,\n",
       " 0.9277777777777778,\n",
       " 0.9416666666666667,\n",
       " 0.95]"
      ]
     },
     "execution_count": 9,
     "metadata": {},
     "output_type": "execute_result"
    }
   ],
   "source": [
    "test_accuracies"
   ]
  },
  {
   "cell_type": "code",
   "execution_count": 18,
   "metadata": {
    "colab": {
     "base_uri": "https://localhost:8080/",
     "height": 298
    },
    "id": "IqmNeq_2YpLl",
    "outputId": "dbd1c0a7-a88b-4efb-cd6f-2a54b851e456"
   },
   "outputs": [
    {
     "data": {
      "text/plain": [
       "Text(0, 0.5, 'Value')"
      ]
     },
     "execution_count": 18,
     "metadata": {},
     "output_type": "execute_result"
    },
    {
     "data": {
      "image/png": "[encoded data removed]",
      "text/plain": [
       "<Figure size 432x288 with 1 Axes>"
      ]
     },
     "metadata": {
      "needs_background": "light"
     },
     "output_type": "display_data"
    }
   ],
   "source": [
    "data = np.array(cross_val_scores)\n",
    "df = pd.DataFrame(data.transpose(), columns=[\"1\", \"2\", \"3\", \"4\", \"5\", \"6\"])\n",
    "ax = sns.violinplot(data=df, inner=\"quartile\")\n",
    "ax = sns.scatterplot(x=[0,1,2,3,4,5], y=test_accuracies, marker=\"X\", color=\"pink\", s=200)\n",
    "ax.set_xlabel(\"Models\")\n",
    "ax.set_ylabel(\"Value\")"
   ]
  },
  {
   "cell_type": "code",
   "execution_count": null,
   "metadata": {
    "id": "P52B-gEmKFzy"
   },
   "outputs": [],
   "source": []
  }
 ],
 "metadata": {
  "colab": {
   "collapsed_sections": [],
   "name": "hw7-1.ipynb",
   "provenance": []
  },
  "kernelspec": {
   "display_name": "Python 3 (ipykernel)",
   "language": "python",
   "name": "python3"
  },
  "language_info": {
   "codemirror_mode": {
    "name": "ipython",
    "version": 3
   },
   "file_extension": ".py",
   "mimetype": "text/x-python",
   "name": "python",
   "nbconvert_exporter": "python",
   "pygments_lexer": "ipython3",
   "version": "3.9.7"
  }
 },
 "nbformat": 4,
 "nbformat_minor": 1
}
