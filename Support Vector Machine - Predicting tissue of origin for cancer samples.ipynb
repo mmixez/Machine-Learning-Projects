{
 "cells": [
  {
   "cell_type": "markdown",
   "metadata": {
    "id": "sxjmMUCcJ4Ru"
   },
   "source": [
    "#### Load libraries and set random number generator seed"
   ]
  },
  {
   "cell_type": "code",
   "execution_count": 1,
   "metadata": {
    "id": "W-nQWzjhJ4Rw"
   },
   "outputs": [],
   "source": [
    "import numpy as np\n",
    "import pandas as pd\n",
    "from sklearn import datasets\n",
    "import matplotlib.pyplot as plt\n",
    "import seaborn as sns\n",
    "from sklearn.model_selection import train_test_split\n",
    "from sklearn.decomposition import PCA\n",
    "from sklearn.preprocessing import StandardScaler\n",
    "from sklearn.svm import LinearSVC\n",
    "from sklearn.svm import SVC\n",
    "from sklearn.model_selection import GridSearchCV\n",
    "from sklearn.metrics import classification_report\n",
    "from sklearn.metrics import plot_confusion_matrix\n",
    "from sklearn.model_selection import GridSearchCV\n",
    "from sklearn.metrics import classification_report\n",
    "from sklearn.model_selection import cross_val_score\n"
   ]
  },
  {
   "cell_type": "code",
   "execution_count": 2,
   "metadata": {
    "id": "RCSCqoxXJ4Rz"
   },
   "outputs": [],
   "source": [
    "np.random.seed(42)"
   ]
  },
  {
   "cell_type": "markdown",
   "metadata": {
    "id": "Nsa75wMHJ4R0"
   },
   "source": [
    "#### Code the solution"
   ]
  },
  {
   "cell_type": "code",
   "execution_count": 3,
   "metadata": {
    "colab": {
     "base_uri": "https://localhost:8080/"
    },
    "id": "aXT6ftDvUNk6",
    "outputId": "bc46e61c-a8f8-4cdb-9a48-f0fcf1b85d1b"
   },
   "outputs": [
    {
     "name": "stdout",
     "output_type": "stream",
     "text": [
      "Mounted at /content/drive\n"
     ]
    }
   ],
   "source": [
    "from google.colab import drive\n",
    "drive.mount('/content/drive')"
   ]
  },
  {
   "cell_type": "code",
   "execution_count": 4,
   "metadata": {
    "colab": {
     "base_uri": "https://localhost:8080/",
     "height": 236
    },
    "id": "-4y7kGdVJ4R2",
    "outputId": "5cfb7cf2-d4d4-48ee-c67b-bca0a8790395"
   },
   "outputs": [
    {
     "data": {
      "text/html": [
       "\n",
       "  <div id=\"df-b205ad0f-c5b0-4930-861a-75ea3bac294d\">\n",
       "    <div class=\"colab-df-container\">\n",
       "      <div>\n",
       "<style scoped>\n",
       "    .dataframe tbody tr th:only-of-type {\n",
       "        vertical-align: middle;\n",
       "    }\n",
       "\n",
       "    .dataframe tbody tr th {\n",
       "        vertical-align: top;\n",
       "    }\n",
       "\n",
       "    .dataframe thead th {\n",
       "        text-align: right;\n",
       "    }\n",
       "</style>\n",
       "<table border=\"1\" class=\"dataframe\">\n",
       "  <thead>\n",
       "    <tr style=\"text-align: right;\">\n",
       "      <th></th>\n",
       "      <th>id</th>\n",
       "      <th>ASS1</th>\n",
       "      <th>SPX</th>\n",
       "      <th>C6orf141</th>\n",
       "      <th>SP5</th>\n",
       "      <th>SP6</th>\n",
       "      <th>ITGA8</th>\n",
       "      <th>ATP2A1</th>\n",
       "      <th>ATP2A3</th>\n",
       "      <th>ITGA2</th>\n",
       "      <th>...</th>\n",
       "      <th>IKZF1</th>\n",
       "      <th>SLC14A1</th>\n",
       "      <th>TCEAL2</th>\n",
       "      <th>TCEAL7</th>\n",
       "      <th>TCEAL5</th>\n",
       "      <th>VCAN</th>\n",
       "      <th>CDR1</th>\n",
       "      <th>KRBOX1</th>\n",
       "      <th>SELL</th>\n",
       "      <th>Class</th>\n",
       "    </tr>\n",
       "  </thead>\n",
       "  <tbody>\n",
       "    <tr>\n",
       "      <th>0</th>\n",
       "      <td>TCGA-AB-2828-03</td>\n",
       "      <td>3.935027</td>\n",
       "      <td>0.523329</td>\n",
       "      <td>0.0</td>\n",
       "      <td>0.000000</td>\n",
       "      <td>0.102277</td>\n",
       "      <td>2.686908</td>\n",
       "      <td>2.837357</td>\n",
       "      <td>7.444575</td>\n",
       "      <td>2.246715</td>\n",
       "      <td>...</td>\n",
       "      <td>8.972232</td>\n",
       "      <td>1.560704</td>\n",
       "      <td>0.000000</td>\n",
       "      <td>0.00000</td>\n",
       "      <td>0.0</td>\n",
       "      <td>11.189255</td>\n",
       "      <td>5.866117</td>\n",
       "      <td>0.000000</td>\n",
       "      <td>7.560923</td>\n",
       "      <td>Leukemia</td>\n",
       "    </tr>\n",
       "    <tr>\n",
       "      <th>1</th>\n",
       "      <td>TCGA-AB-2846-03</td>\n",
       "      <td>3.372801</td>\n",
       "      <td>0.000000</td>\n",
       "      <td>0.0</td>\n",
       "      <td>0.000000</td>\n",
       "      <td>0.116270</td>\n",
       "      <td>2.083429</td>\n",
       "      <td>5.567935</td>\n",
       "      <td>8.361999</td>\n",
       "      <td>3.626850</td>\n",
       "      <td>...</td>\n",
       "      <td>8.662337</td>\n",
       "      <td>2.509522</td>\n",
       "      <td>0.000000</td>\n",
       "      <td>0.00000</td>\n",
       "      <td>0.0</td>\n",
       "      <td>9.472547</td>\n",
       "      <td>6.514825</td>\n",
       "      <td>0.289298</td>\n",
       "      <td>8.023838</td>\n",
       "      <td>Leukemia</td>\n",
       "    </tr>\n",
       "    <tr>\n",
       "      <th>2</th>\n",
       "      <td>TCGA-AB-2870-03</td>\n",
       "      <td>4.198301</td>\n",
       "      <td>0.000000</td>\n",
       "      <td>0.0</td>\n",
       "      <td>0.000000</td>\n",
       "      <td>0.249176</td>\n",
       "      <td>1.546059</td>\n",
       "      <td>6.605116</td>\n",
       "      <td>9.138359</td>\n",
       "      <td>2.858430</td>\n",
       "      <td>...</td>\n",
       "      <td>8.848274</td>\n",
       "      <td>3.137405</td>\n",
       "      <td>0.185980</td>\n",
       "      <td>0.00000</td>\n",
       "      <td>0.0</td>\n",
       "      <td>9.710047</td>\n",
       "      <td>0.000000</td>\n",
       "      <td>0.000000</td>\n",
       "      <td>8.031553</td>\n",
       "      <td>Leukemia</td>\n",
       "    </tr>\n",
       "    <tr>\n",
       "      <th>3</th>\n",
       "      <td>TCGA-AB-2872-03</td>\n",
       "      <td>4.115014</td>\n",
       "      <td>0.000000</td>\n",
       "      <td>0.0</td>\n",
       "      <td>0.222018</td>\n",
       "      <td>0.632254</td>\n",
       "      <td>2.158989</td>\n",
       "      <td>6.858708</td>\n",
       "      <td>9.201254</td>\n",
       "      <td>2.295229</td>\n",
       "      <td>...</td>\n",
       "      <td>7.730065</td>\n",
       "      <td>3.087055</td>\n",
       "      <td>0.380857</td>\n",
       "      <td>0.23682</td>\n",
       "      <td>0.0</td>\n",
       "      <td>6.085074</td>\n",
       "      <td>6.012453</td>\n",
       "      <td>0.411678</td>\n",
       "      <td>5.186830</td>\n",
       "      <td>Leukemia</td>\n",
       "    </tr>\n",
       "    <tr>\n",
       "      <th>4</th>\n",
       "      <td>TCGA-AB-2881-03</td>\n",
       "      <td>3.662169</td>\n",
       "      <td>0.467823</td>\n",
       "      <td>0.0</td>\n",
       "      <td>0.000000</td>\n",
       "      <td>0.000000</td>\n",
       "      <td>1.183388</td>\n",
       "      <td>5.567935</td>\n",
       "      <td>9.040883</td>\n",
       "      <td>1.815837</td>\n",
       "      <td>...</td>\n",
       "      <td>8.414421</td>\n",
       "      <td>2.683150</td>\n",
       "      <td>0.176611</td>\n",
       "      <td>0.00000</td>\n",
       "      <td>0.0</td>\n",
       "      <td>8.203471</td>\n",
       "      <td>5.718898</td>\n",
       "      <td>0.000000</td>\n",
       "      <td>8.031553</td>\n",
       "      <td>Leukemia</td>\n",
       "    </tr>\n",
       "  </tbody>\n",
       "</table>\n",
       "<p>5 rows × 3002 columns</p>\n",
       "</div>\n",
       "      <button class=\"colab-df-convert\" onclick=\"convertToInteractive('df-b205ad0f-c5b0-4930-861a-75ea3bac294d')\"\n",
       "              title=\"Convert this dataframe to an interactive table.\"\n",
       "              style=\"display:none;\">\n",
       "        \n",
       "  <svg xmlns=\"http://www.w3.org/2000/svg\" height=\"24px\"viewBox=\"0 0 24 24\"\n",
       "       width=\"24px\">\n",
       "    <path d=\"M0 0h24v24H0V0z\" fill=\"none\"/>\n",
       "    <path d=\"M18.56 5.44l.94 2.06.94-2.06 2.06-.94-2.06-.94-.94-2.06-.94 2.06-2.06.94zm-11 1L8.5 8.5l.94-2.06 2.06-.94-2.06-.94L8.5 2.5l-.94 2.06-2.06.94zm10 10l.94 2.06.94-2.06 2.06-.94-2.06-.94-.94-2.06-.94 2.06-2.06.94z\"/><path d=\"M17.41 7.96l-1.37-1.37c-.4-.4-.92-.59-1.43-.59-.52 0-1.04.2-1.43.59L10.3 9.45l-7.72 7.72c-.78.78-.78 2.05 0 2.83L4 21.41c.39.39.9.59 1.41.59.51 0 1.02-.2 1.41-.59l7.78-7.78 2.81-2.81c.8-.78.8-2.07 0-2.86zM5.41 20L4 18.59l7.72-7.72 1.47 1.35L5.41 20z\"/>\n",
       "  </svg>\n",
       "      </button>\n",
       "      \n",
       "  <style>\n",
       "    .colab-df-container {\n",
       "      display:flex;\n",
       "      flex-wrap:wrap;\n",
       "      gap: 12px;\n",
       "    }\n",
       "\n",
       "    .colab-df-convert {\n",
       "      background-color: #E8F0FE;\n",
       "      border: none;\n",
       "      border-radius: 50%;\n",
       "      cursor: pointer;\n",
       "      display: none;\n",
       "      fill: #1967D2;\n",
       "      height: 32px;\n",
       "      padding: 0 0 0 0;\n",
       "      width: 32px;\n",
       "    }\n",
       "\n",
       "    .colab-df-convert:hover {\n",
       "      background-color: #E2EBFA;\n",
       "      box-shadow: 0px 1px 2px rgba(60, 64, 67, 0.3), 0px 1px 3px 1px rgba(60, 64, 67, 0.15);\n",
       "      fill: #174EA6;\n",
       "    }\n",
       "\n",
       "    [theme=dark] .colab-df-convert {\n",
       "      background-color: #3B4455;\n",
       "      fill: #D2E3FC;\n",
       "    }\n",
       "\n",
       "    [theme=dark] .colab-df-convert:hover {\n",
       "      background-color: #434B5C;\n",
       "      box-shadow: 0px 1px 3px 1px rgba(0, 0, 0, 0.15);\n",
       "      filter: drop-shadow(0px 1px 2px rgba(0, 0, 0, 0.3));\n",
       "      fill: #FFFFFF;\n",
       "    }\n",
       "  </style>\n",
       "\n",
       "      <script>\n",
       "        const buttonEl =\n",
       "          document.querySelector('#df-b205ad0f-c5b0-4930-861a-75ea3bac294d button.colab-df-convert');\n",
       "        buttonEl.style.display =\n",
       "          google.colab.kernel.accessAllowed ? 'block' : 'none';\n",
       "\n",
       "        async function convertToInteractive(key) {\n",
       "          const element = document.querySelector('#df-b205ad0f-c5b0-4930-861a-75ea3bac294d');\n",
       "          const dataTable =\n",
       "            await google.colab.kernel.invokeFunction('convertToInteractive',\n",
       "                                                     [key], {});\n",
       "          if (!dataTable) return;\n",
       "\n",
       "          const docLinkHtml = 'Like what you see? Visit the ' +\n",
       "            '<a target=\"_blank\" href=https://colab.research.google.com/notebooks/data_table.ipynb>data table notebook</a>'\n",
       "            + ' to learn more about interactive tables.';\n",
       "          element.innerHTML = '';\n",
       "          dataTable['output_type'] = 'display_data';\n",
       "          await google.colab.output.renderOutput(dataTable, element);\n",
       "          const docLink = document.createElement('div');\n",
       "          docLink.innerHTML = docLinkHtml;\n",
       "          element.appendChild(docLink);\n",
       "        }\n",
       "      </script>\n",
       "    </div>\n",
       "  </div>\n",
       "  "
      ],
      "text/plain": [
       "                id      ASS1       SPX  C6orf141       SP5       SP6  \\\n",
       "0  TCGA-AB-2828-03  3.935027  0.523329       0.0  0.000000  0.102277   \n",
       "1  TCGA-AB-2846-03  3.372801  0.000000       0.0  0.000000  0.116270   \n",
       "2  TCGA-AB-2870-03  4.198301  0.000000       0.0  0.000000  0.249176   \n",
       "3  TCGA-AB-2872-03  4.115014  0.000000       0.0  0.222018  0.632254   \n",
       "4  TCGA-AB-2881-03  3.662169  0.467823       0.0  0.000000  0.000000   \n",
       "\n",
       "      ITGA8    ATP2A1    ATP2A3     ITGA2  ...     IKZF1   SLC14A1    TCEAL2  \\\n",
       "0  2.686908  2.837357  7.444575  2.246715  ...  8.972232  1.560704  0.000000   \n",
       "1  2.083429  5.567935  8.361999  3.626850  ...  8.662337  2.509522  0.000000   \n",
       "2  1.546059  6.605116  9.138359  2.858430  ...  8.848274  3.137405  0.185980   \n",
       "3  2.158989  6.858708  9.201254  2.295229  ...  7.730065  3.087055  0.380857   \n",
       "4  1.183388  5.567935  9.040883  1.815837  ...  8.414421  2.683150  0.176611   \n",
       "\n",
       "    TCEAL7  TCEAL5       VCAN      CDR1    KRBOX1      SELL     Class  \n",
       "0  0.00000     0.0  11.189255  5.866117  0.000000  7.560923  Leukemia  \n",
       "1  0.00000     0.0   9.472547  6.514825  0.289298  8.023838  Leukemia  \n",
       "2  0.00000     0.0   9.710047  0.000000  0.000000  8.031553  Leukemia  \n",
       "3  0.23682     0.0   6.085074  6.012453  0.411678  5.186830  Leukemia  \n",
       "4  0.00000     0.0   8.203471  5.718898  0.000000  8.031553  Leukemia  \n",
       "\n",
       "[5 rows x 3002 columns]"
      ]
     },
     "execution_count": 4,
     "metadata": {},
     "output_type": "execute_result"
    }
   ],
   "source": [
    "df = pd.read_csv('/content/drive/MyDrive/Test/homework4_input_data.csv')\n",
    "\n",
    "#myData = drive('/content/drive/MyDrive/Test/homework4_input_data.csv')\n",
    "df.head()"
   ]
  },
  {
   "cell_type": "code",
   "execution_count": 5,
   "metadata": {
    "colab": {
     "base_uri": "https://localhost:8080/"
    },
    "id": "w-JA_wCq2JTW",
    "outputId": "2a46feae-cbb7-48b8-f844-7622812b4959"
   },
   "outputs": [
    {
     "data": {
      "text/plain": [
       "(4336, 3002)"
      ]
     },
     "execution_count": 5,
     "metadata": {},
     "output_type": "execute_result"
    }
   ],
   "source": [
    "df.shape"
   ]
  },
  {
   "cell_type": "markdown",
   "metadata": {
    "id": "UnRouJuamxzh"
   },
   "source": []
  },
  {
   "cell_type": "code",
   "execution_count": 6,
   "metadata": {
    "id": "WJHmoOD8mSea"
   },
   "outputs": [],
   "source": [
    "independent_vars = [list(df.columns)]\n",
    "dependent_vars = ['Class']\n",
    "X = df.iloc[:,1:3001]\n",
    "Y = df[['Class']]\n",
    "\n"
   ]
  },
  {
   "cell_type": "code",
   "execution_count": null,
   "metadata": {
    "id": "HUM5n2XxJ4R3"
   },
   "outputs": [],
   "source": []
  },
  {
   "cell_type": "code",
   "execution_count": 7,
   "metadata": {
    "id": "7UKwyEipT2ZV"
   },
   "outputs": [],
   "source": [
    "scaler = StandardScaler()\n",
    "\n",
    "X_rescaled = scaler.fit_transform(X)"
   ]
  },
  {
   "cell_type": "markdown",
   "metadata": {
    "id": "jT5SgPCYPWrf"
   },
   "source": [
    "\\"
   ]
  },
  {
   "cell_type": "code",
   "execution_count": 8,
   "metadata": {
    "colab": {
     "base_uri": "https://localhost:8080/"
    },
    "id": "lqSLbXZCT36W",
    "outputId": "1fcc02c0-03ba-44f2-b715-20eab44eed57"
   },
   "outputs": [
    {
     "data": {
      "text/plain": [
       "((3468, 3000), (3468, 1), (868, 3000), (868, 1))"
      ]
     },
     "execution_count": 8,
     "metadata": {},
     "output_type": "execute_result"
    }
   ],
   "source": [
    "X_train, X_test, Y_train, Y_test = train_test_split(X_rescaled, Y, test_size=0.2, random_state=0, stratify = Y)\n",
    "X_train.shape, Y_train.shape, X_test.shape, Y_test.shape"
   ]
  },
  {
   "cell_type": "code",
   "execution_count": 9,
   "metadata": {
    "colab": {
     "base_uri": "https://localhost:8080/"
    },
    "id": "4stUE9_RJ4R4",
    "outputId": "55edc99d-7cf7-4a37-ffb9-2f62e4990fdb"
   },
   "outputs": [
    {
     "name": "stderr",
     "output_type": "stream",
     "text": [
      "/usr/local/lib/python3.7/dist-packages/sklearn/utils/validation.py:993: DataConversionWarning: A column-vector y was passed when a 1d array was expected. Please change the shape of y to (n_samples, ), for example using ravel().\n",
      "  y = column_or_1d(y, warn=True)\n"
     ]
    },
    {
     "name": "stdout",
     "output_type": "stream",
     "text": [
      "Accuracy of linear SVC on training set: 1.00\n",
      "Accuracy of linear SVC on test set: 0.98\n"
     ]
    }
   ],
   "source": [
    "model = LinearSVC().fit(X_train,Y_train)\n",
    "\n",
    "print('Accuracy of linear SVC on training set: {:.2f}'.format(model.score(X_train, Y_train)))\n",
    "\n",
    "print('Accuracy of linear SVC on test set: {:.2f}'.format(model.score(X_test, Y_test)))\n",
    "\n"
   ]
  },
  {
   "cell_type": "code",
   "execution_count": 10,
   "metadata": {
    "colab": {
     "base_uri": "https://localhost:8080/"
    },
    "id": "RdM5ixC2oHWn",
    "outputId": "66a705c1-23a4-4628-f97f-1d49556d95c9"
   },
   "outputs": [
    {
     "name": "stderr",
     "output_type": "stream",
     "text": [
      "/usr/local/lib/python3.7/dist-packages/sklearn/utils/validation.py:993: DataConversionWarning: A column-vector y was passed when a 1d array was expected. Please change the shape of y to (n_samples, ), for example using ravel().\n",
      "  y = column_or_1d(y, warn=True)\n",
      "/usr/local/lib/python3.7/dist-packages/sklearn/utils/validation.py:993: DataConversionWarning: A column-vector y was passed when a 1d array was expected. Please change the shape of y to (n_samples, ), for example using ravel().\n",
      "  y = column_or_1d(y, warn=True)\n",
      "/usr/local/lib/python3.7/dist-packages/sklearn/utils/validation.py:993: DataConversionWarning: A column-vector y was passed when a 1d array was expected. Please change the shape of y to (n_samples, ), for example using ravel().\n",
      "  y = column_or_1d(y, warn=True)\n",
      "/usr/local/lib/python3.7/dist-packages/sklearn/utils/validation.py:993: DataConversionWarning: A column-vector y was passed when a 1d array was expected. Please change the shape of y to (n_samples, ), for example using ravel().\n",
      "  y = column_or_1d(y, warn=True)\n",
      "/usr/local/lib/python3.7/dist-packages/sklearn/utils/validation.py:993: DataConversionWarning: A column-vector y was passed when a 1d array was expected. Please change the shape of y to (n_samples, ), for example using ravel().\n",
      "  y = column_or_1d(y, warn=True)\n"
     ]
    },
    {
     "name": "stdout",
     "output_type": "stream",
     "text": [
      "Individual cross-validation accuracies: [0.97465438 0.96309112 0.95963091 0.95847751 0.96539792]\n",
      "Mean cross validation score: 0.96\n"
     ]
    }
   ],
   "source": [
    "arr = cross_val_score(model,X_rescaled,Y)\n",
    "print('Individual cross-validation accuracies: '+str(arr))\n",
    "#print('Individual cross-validation accuracies: {0})'.format(cross_val_score(model,X_rescaled,Y)))\n",
    "\n",
    "print(\"Mean cross validation score: {:.2f}\".format(sum(arr)/5))"
   ]
  },
  {
   "cell_type": "code",
   "execution_count": 11,
   "metadata": {
    "colab": {
     "base_uri": "https://localhost:8080/",
     "height": 1000
    },
    "id": "WuxreWPsJ4R5",
    "outputId": "8b973b13-e382-4469-a89b-dfc1d9ad4412"
   },
   "outputs": [
    {
     "name": "stderr",
     "output_type": "stream",
     "text": [
      "/usr/local/lib/python3.7/dist-packages/sklearn/utils/deprecation.py:87: FutureWarning: Function plot_confusion_matrix is deprecated; Function `plot_confusion_matrix` is deprecated in 1.0 and will be removed in 1.2. Use one of the class methods: ConfusionMatrixDisplay.from_predictions or ConfusionMatrixDisplay.from_estimator.\n",
      "  warnings.warn(msg, category=FutureWarning)\n",
      "/usr/local/lib/python3.7/dist-packages/sklearn/utils/deprecation.py:87: FutureWarning: Function plot_confusion_matrix is deprecated; Function `plot_confusion_matrix` is deprecated in 1.0 and will be removed in 1.2. Use one of the class methods: ConfusionMatrixDisplay.from_predictions or ConfusionMatrixDisplay.from_estimator.\n",
      "  warnings.warn(msg, category=FutureWarning)\n"
     ]
    },
    {
     "name": "stdout",
     "output_type": "stream",
     "text": [
      "Confusion matrix, without normalization\n",
      "[[ 66   0   0   0   0   0   0   0   0   0   0   0]\n",
      " [  0 175   0   0   0   0   0   0   0   0   0   0]\n",
      " [  0   0  69   0   0   0   0   0   0   0   5   0]\n",
      " [  0   0   0  21   0   0   0   0   0   0   0   2]\n",
      " [  0   0   0   0  83   0   0   0   0   0   0   0]\n",
      " [  0   0   0   0   0  84   0   0   0   0   0   0]\n",
      " [  0   0   0   0   0   0  20   0   0   0   0   0]\n",
      " [  0   0   0   0   0   0   0  83   2   0   0   0]\n",
      " [  0   0   0   0   0   0   2   2  74   0   0   0]\n",
      " [  0   0   0   0   0   0   0   0   0  68   0   0]\n",
      " [  0   0   8   0   0   0   0   0   0   0  18   0]\n",
      " [  0   0   0   0   0   0   0   0   0   0   0  86]]\n",
      "Normalized confusion matrix\n",
      "[[1.   0.   0.   0.   0.   0.   0.   0.   0.   0.   0.   0.  ]\n",
      " [0.   1.   0.   0.   0.   0.   0.   0.   0.   0.   0.   0.  ]\n",
      " [0.   0.   0.93 0.   0.   0.   0.   0.   0.   0.   0.07 0.  ]\n",
      " [0.   0.   0.   0.91 0.   0.   0.   0.   0.   0.   0.   0.09]\n",
      " [0.   0.   0.   0.   1.   0.   0.   0.   0.   0.   0.   0.  ]\n",
      " [0.   0.   0.   0.   0.   1.   0.   0.   0.   0.   0.   0.  ]\n",
      " [0.   0.   0.   0.   0.   0.   1.   0.   0.   0.   0.   0.  ]\n",
      " [0.   0.   0.   0.   0.   0.   0.   0.98 0.02 0.   0.   0.  ]\n",
      " [0.   0.   0.   0.   0.   0.   0.03 0.03 0.95 0.   0.   0.  ]\n",
      " [0.   0.   0.   0.   0.   0.   0.   0.   0.   1.   0.   0.  ]\n",
      " [0.   0.   0.31 0.   0.   0.   0.   0.   0.   0.   0.69 0.  ]\n",
      " [0.   0.   0.   0.   0.   0.   0.   0.   0.   0.   0.   1.  ]]\n"
     ]
    },
    {
     "data": {
      "image/png": "[encoded data removed]",
      "text/plain": [
       "<Figure size 432x288 with 2 Axes>"
      ]
     },
     "metadata": {
      "needs_background": "light"
     },
     "output_type": "display_data"
    },
    {
     "data": {
      "image/png": "[encoded data removed]",
      "text/plain": [
       "<Figure size 432x288 with 2 Axes>"
      ]
     },
     "metadata": {
      "needs_background": "light"
     },
     "output_type": "display_data"
    }
   ],
   "source": [
    "# this code is adopted from this example:\n",
    "# https://scikit-learn.org/stable/auto_examples/model_selection/plot_confusion_matrix.html\n",
    "\n",
    "np.set_printoptions(precision=2)\n",
    "titles_options = [(\"Confusion matrix, without normalization\", None),\n",
    "                  (\"Normalized confusion matrix\", 'true')]\n",
    "for title, normalize in titles_options:\n",
    "    disp = plot_confusion_matrix(model, X_test, Y_test,\n",
    "                                 #display_labels=class_names,\n",
    "                                 cmap=plt.cm.Blues,\n",
    "                                 normalize=normalize,\n",
    "                                 xticks_rotation='vertical')\n",
    "    disp.ax_.set_title(title)\n",
    "\n",
    "    print(title)\n",
    "    print(disp.confusion_matrix)\n",
    "\n",
    "plt.show()"
   ]
  },
  {
   "cell_type": "code",
   "execution_count": 12,
   "metadata": {
    "id": "jAXW314F8MkV"
   },
   "outputs": [],
   "source": [
    "X_reduced = PCA(n_components=2).fit_transform(X)"
   ]
  },
  {
   "cell_type": "code",
   "execution_count": 13,
   "metadata": {
    "colab": {
     "base_uri": "https://localhost:8080/",
     "height": 424
    },
    "id": "jG1t3a6FMLFl",
    "outputId": "9966abe4-e77f-4d03-9c40-b7b3ec71c357"
   },
   "outputs": [
    {
     "data": {
      "text/html": [
       "\n",
       "  <div id=\"df-761ca8c4-77b5-41fe-a6c4-82044d2f1af8\">\n",
       "    <div class=\"colab-df-container\">\n",
       "      <div>\n",
       "<style scoped>\n",
       "    .dataframe tbody tr th:only-of-type {\n",
       "        vertical-align: middle;\n",
       "    }\n",
       "\n",
       "    .dataframe tbody tr th {\n",
       "        vertical-align: top;\n",
       "    }\n",
       "\n",
       "    .dataframe thead th {\n",
       "        text-align: right;\n",
       "    }\n",
       "</style>\n",
       "<table border=\"1\" class=\"dataframe\">\n",
       "  <thead>\n",
       "    <tr style=\"text-align: right;\">\n",
       "      <th></th>\n",
       "      <th>ASS1</th>\n",
       "      <th>SPX</th>\n",
       "      <th>C6orf141</th>\n",
       "      <th>SP5</th>\n",
       "      <th>SP6</th>\n",
       "      <th>ITGA8</th>\n",
       "      <th>ATP2A1</th>\n",
       "      <th>ATP2A3</th>\n",
       "      <th>ITGA2</th>\n",
       "      <th>ITGA3</th>\n",
       "      <th>...</th>\n",
       "      <th>SULT1B1</th>\n",
       "      <th>IKZF1</th>\n",
       "      <th>SLC14A1</th>\n",
       "      <th>TCEAL2</th>\n",
       "      <th>TCEAL7</th>\n",
       "      <th>TCEAL5</th>\n",
       "      <th>VCAN</th>\n",
       "      <th>CDR1</th>\n",
       "      <th>KRBOX1</th>\n",
       "      <th>SELL</th>\n",
       "    </tr>\n",
       "  </thead>\n",
       "  <tbody>\n",
       "    <tr>\n",
       "      <th>0</th>\n",
       "      <td>3.935027</td>\n",
       "      <td>0.523329</td>\n",
       "      <td>0.000000</td>\n",
       "      <td>0.000000</td>\n",
       "      <td>0.102277</td>\n",
       "      <td>2.686908</td>\n",
       "      <td>2.837357</td>\n",
       "      <td>7.444575</td>\n",
       "      <td>2.246715</td>\n",
       "      <td>0.202624</td>\n",
       "      <td>...</td>\n",
       "      <td>4.458889</td>\n",
       "      <td>8.972232</td>\n",
       "      <td>1.560704</td>\n",
       "      <td>0.000000</td>\n",
       "      <td>0.000000</td>\n",
       "      <td>0.000000</td>\n",
       "      <td>11.189255</td>\n",
       "      <td>5.866117</td>\n",
       "      <td>0.000000</td>\n",
       "      <td>7.560923</td>\n",
       "    </tr>\n",
       "    <tr>\n",
       "      <th>1</th>\n",
       "      <td>3.372801</td>\n",
       "      <td>0.000000</td>\n",
       "      <td>0.000000</td>\n",
       "      <td>0.000000</td>\n",
       "      <td>0.116270</td>\n",
       "      <td>2.083429</td>\n",
       "      <td>5.567935</td>\n",
       "      <td>8.361999</td>\n",
       "      <td>3.626850</td>\n",
       "      <td>0.449673</td>\n",
       "      <td>...</td>\n",
       "      <td>4.322699</td>\n",
       "      <td>8.662337</td>\n",
       "      <td>2.509522</td>\n",
       "      <td>0.000000</td>\n",
       "      <td>0.000000</td>\n",
       "      <td>0.000000</td>\n",
       "      <td>9.472547</td>\n",
       "      <td>6.514825</td>\n",
       "      <td>0.289298</td>\n",
       "      <td>8.023838</td>\n",
       "    </tr>\n",
       "    <tr>\n",
       "      <th>2</th>\n",
       "      <td>4.198301</td>\n",
       "      <td>0.000000</td>\n",
       "      <td>0.000000</td>\n",
       "      <td>0.000000</td>\n",
       "      <td>0.249176</td>\n",
       "      <td>1.546059</td>\n",
       "      <td>6.605116</td>\n",
       "      <td>9.138359</td>\n",
       "      <td>2.858430</td>\n",
       "      <td>1.624238</td>\n",
       "      <td>...</td>\n",
       "      <td>3.769234</td>\n",
       "      <td>8.848274</td>\n",
       "      <td>3.137405</td>\n",
       "      <td>0.185980</td>\n",
       "      <td>0.000000</td>\n",
       "      <td>0.000000</td>\n",
       "      <td>9.710047</td>\n",
       "      <td>0.000000</td>\n",
       "      <td>0.000000</td>\n",
       "      <td>8.031553</td>\n",
       "    </tr>\n",
       "    <tr>\n",
       "      <th>3</th>\n",
       "      <td>4.115014</td>\n",
       "      <td>0.000000</td>\n",
       "      <td>0.000000</td>\n",
       "      <td>0.222018</td>\n",
       "      <td>0.632254</td>\n",
       "      <td>2.158989</td>\n",
       "      <td>6.858708</td>\n",
       "      <td>9.201254</td>\n",
       "      <td>2.295229</td>\n",
       "      <td>0.326149</td>\n",
       "      <td>...</td>\n",
       "      <td>4.553598</td>\n",
       "      <td>7.730065</td>\n",
       "      <td>3.087055</td>\n",
       "      <td>0.380857</td>\n",
       "      <td>0.236820</td>\n",
       "      <td>0.000000</td>\n",
       "      <td>6.085074</td>\n",
       "      <td>6.012453</td>\n",
       "      <td>0.411678</td>\n",
       "      <td>5.186830</td>\n",
       "    </tr>\n",
       "    <tr>\n",
       "      <th>4</th>\n",
       "      <td>3.662169</td>\n",
       "      <td>0.467823</td>\n",
       "      <td>0.000000</td>\n",
       "      <td>0.000000</td>\n",
       "      <td>0.000000</td>\n",
       "      <td>1.183388</td>\n",
       "      <td>5.567935</td>\n",
       "      <td>9.040883</td>\n",
       "      <td>1.815837</td>\n",
       "      <td>1.658433</td>\n",
       "      <td>...</td>\n",
       "      <td>3.937198</td>\n",
       "      <td>8.414421</td>\n",
       "      <td>2.683150</td>\n",
       "      <td>0.176611</td>\n",
       "      <td>0.000000</td>\n",
       "      <td>0.000000</td>\n",
       "      <td>8.203471</td>\n",
       "      <td>5.718898</td>\n",
       "      <td>0.000000</td>\n",
       "      <td>8.031553</td>\n",
       "    </tr>\n",
       "    <tr>\n",
       "      <th>...</th>\n",
       "      <td>...</td>\n",
       "      <td>...</td>\n",
       "      <td>...</td>\n",
       "      <td>...</td>\n",
       "      <td>...</td>\n",
       "      <td>...</td>\n",
       "      <td>...</td>\n",
       "      <td>...</td>\n",
       "      <td>...</td>\n",
       "      <td>...</td>\n",
       "      <td>...</td>\n",
       "      <td>...</td>\n",
       "      <td>...</td>\n",
       "      <td>...</td>\n",
       "      <td>...</td>\n",
       "      <td>...</td>\n",
       "      <td>...</td>\n",
       "      <td>...</td>\n",
       "      <td>...</td>\n",
       "      <td>...</td>\n",
       "      <td>...</td>\n",
       "    </tr>\n",
       "    <tr>\n",
       "      <th>4331</th>\n",
       "      <td>6.752567</td>\n",
       "      <td>2.061867</td>\n",
       "      <td>2.220238</td>\n",
       "      <td>1.670146</td>\n",
       "      <td>2.089802</td>\n",
       "      <td>4.105404</td>\n",
       "      <td>2.631701</td>\n",
       "      <td>3.974129</td>\n",
       "      <td>4.013841</td>\n",
       "      <td>7.201038</td>\n",
       "      <td>...</td>\n",
       "      <td>0.721246</td>\n",
       "      <td>3.698293</td>\n",
       "      <td>1.362715</td>\n",
       "      <td>3.888618</td>\n",
       "      <td>5.573470</td>\n",
       "      <td>4.011728</td>\n",
       "      <td>7.686758</td>\n",
       "      <td>7.651728</td>\n",
       "      <td>3.293383</td>\n",
       "      <td>2.737921</td>\n",
       "    </tr>\n",
       "    <tr>\n",
       "      <th>4332</th>\n",
       "      <td>6.481851</td>\n",
       "      <td>0.195973</td>\n",
       "      <td>3.082744</td>\n",
       "      <td>3.152085</td>\n",
       "      <td>1.974102</td>\n",
       "      <td>2.222543</td>\n",
       "      <td>2.449799</td>\n",
       "      <td>5.039194</td>\n",
       "      <td>2.903390</td>\n",
       "      <td>5.600291</td>\n",
       "      <td>...</td>\n",
       "      <td>0.146986</td>\n",
       "      <td>4.814241</td>\n",
       "      <td>1.090338</td>\n",
       "      <td>2.564054</td>\n",
       "      <td>4.638007</td>\n",
       "      <td>3.420460</td>\n",
       "      <td>6.780378</td>\n",
       "      <td>6.572266</td>\n",
       "      <td>0.912975</td>\n",
       "      <td>3.518969</td>\n",
       "    </tr>\n",
       "    <tr>\n",
       "      <th>4333</th>\n",
       "      <td>7.776659</td>\n",
       "      <td>0.859361</td>\n",
       "      <td>2.016015</td>\n",
       "      <td>1.995366</td>\n",
       "      <td>3.934322</td>\n",
       "      <td>2.520344</td>\n",
       "      <td>3.657478</td>\n",
       "      <td>3.805650</td>\n",
       "      <td>3.698809</td>\n",
       "      <td>5.940498</td>\n",
       "      <td>...</td>\n",
       "      <td>0.000000</td>\n",
       "      <td>3.442377</td>\n",
       "      <td>2.463595</td>\n",
       "      <td>5.406420</td>\n",
       "      <td>4.638007</td>\n",
       "      <td>4.104928</td>\n",
       "      <td>6.908519</td>\n",
       "      <td>10.183748</td>\n",
       "      <td>4.845148</td>\n",
       "      <td>2.069559</td>\n",
       "    </tr>\n",
       "    <tr>\n",
       "      <th>4334</th>\n",
       "      <td>8.421619</td>\n",
       "      <td>1.287896</td>\n",
       "      <td>0.000000</td>\n",
       "      <td>0.147612</td>\n",
       "      <td>2.094130</td>\n",
       "      <td>2.266953</td>\n",
       "      <td>1.881556</td>\n",
       "      <td>3.754020</td>\n",
       "      <td>3.412572</td>\n",
       "      <td>6.569963</td>\n",
       "      <td>...</td>\n",
       "      <td>0.138372</td>\n",
       "      <td>4.304535</td>\n",
       "      <td>0.841096</td>\n",
       "      <td>0.814483</td>\n",
       "      <td>1.931713</td>\n",
       "      <td>2.962235</td>\n",
       "      <td>6.634303</td>\n",
       "      <td>6.314444</td>\n",
       "      <td>1.895622</td>\n",
       "      <td>2.899793</td>\n",
       "    </tr>\n",
       "    <tr>\n",
       "      <th>4335</th>\n",
       "      <td>6.678433</td>\n",
       "      <td>0.859361</td>\n",
       "      <td>5.170569</td>\n",
       "      <td>0.631781</td>\n",
       "      <td>1.974102</td>\n",
       "      <td>2.234900</td>\n",
       "      <td>2.836151</td>\n",
       "      <td>3.720234</td>\n",
       "      <td>3.950507</td>\n",
       "      <td>7.413822</td>\n",
       "      <td>...</td>\n",
       "      <td>0.137971</td>\n",
       "      <td>2.864401</td>\n",
       "      <td>1.830926</td>\n",
       "      <td>4.964974</td>\n",
       "      <td>2.076271</td>\n",
       "      <td>3.788381</td>\n",
       "      <td>6.595265</td>\n",
       "      <td>0.000000</td>\n",
       "      <td>1.038546</td>\n",
       "      <td>1.524757</td>\n",
       "    </tr>\n",
       "  </tbody>\n",
       "</table>\n",
       "<p>4336 rows × 3000 columns</p>\n",
       "</div>\n",
       "      <button class=\"colab-df-convert\" onclick=\"convertToInteractive('df-761ca8c4-77b5-41fe-a6c4-82044d2f1af8')\"\n",
       "              title=\"Convert this dataframe to an interactive table.\"\n",
       "              style=\"display:none;\">\n",
       "        \n",
       "  <svg xmlns=\"http://www.w3.org/2000/svg\" height=\"24px\"viewBox=\"0 0 24 24\"\n",
       "       width=\"24px\">\n",
       "    <path d=\"M0 0h24v24H0V0z\" fill=\"none\"/>\n",
       "    <path d=\"M18.56 5.44l.94 2.06.94-2.06 2.06-.94-2.06-.94-.94-2.06-.94 2.06-2.06.94zm-11 1L8.5 8.5l.94-2.06 2.06-.94-2.06-.94L8.5 2.5l-.94 2.06-2.06.94zm10 10l.94 2.06.94-2.06 2.06-.94-2.06-.94-.94-2.06-.94 2.06-2.06.94z\"/><path d=\"M17.41 7.96l-1.37-1.37c-.4-.4-.92-.59-1.43-.59-.52 0-1.04.2-1.43.59L10.3 9.45l-7.72 7.72c-.78.78-.78 2.05 0 2.83L4 21.41c.39.39.9.59 1.41.59.51 0 1.02-.2 1.41-.59l7.78-7.78 2.81-2.81c.8-.78.8-2.07 0-2.86zM5.41 20L4 18.59l7.72-7.72 1.47 1.35L5.41 20z\"/>\n",
       "  </svg>\n",
       "      </button>\n",
       "      \n",
       "  <style>\n",
       "    .colab-df-container {\n",
       "      display:flex;\n",
       "      flex-wrap:wrap;\n",
       "      gap: 12px;\n",
       "    }\n",
       "\n",
       "    .colab-df-convert {\n",
       "      background-color: #E8F0FE;\n",
       "      border: none;\n",
       "      border-radius: 50%;\n",
       "      cursor: pointer;\n",
       "      display: none;\n",
       "      fill: #1967D2;\n",
       "      height: 32px;\n",
       "      padding: 0 0 0 0;\n",
       "      width: 32px;\n",
       "    }\n",
       "\n",
       "    .colab-df-convert:hover {\n",
       "      background-color: #E2EBFA;\n",
       "      box-shadow: 0px 1px 2px rgba(60, 64, 67, 0.3), 0px 1px 3px 1px rgba(60, 64, 67, 0.15);\n",
       "      fill: #174EA6;\n",
       "    }\n",
       "\n",
       "    [theme=dark] .colab-df-convert {\n",
       "      background-color: #3B4455;\n",
       "      fill: #D2E3FC;\n",
       "    }\n",
       "\n",
       "    [theme=dark] .colab-df-convert:hover {\n",
       "      background-color: #434B5C;\n",
       "      box-shadow: 0px 1px 3px 1px rgba(0, 0, 0, 0.15);\n",
       "      filter: drop-shadow(0px 1px 2px rgba(0, 0, 0, 0.3));\n",
       "      fill: #FFFFFF;\n",
       "    }\n",
       "  </style>\n",
       "\n",
       "      <script>\n",
       "        const buttonEl =\n",
       "          document.querySelector('#df-761ca8c4-77b5-41fe-a6c4-82044d2f1af8 button.colab-df-convert');\n",
       "        buttonEl.style.display =\n",
       "          google.colab.kernel.accessAllowed ? 'block' : 'none';\n",
       "\n",
       "        async function convertToInteractive(key) {\n",
       "          const element = document.querySelector('#df-761ca8c4-77b5-41fe-a6c4-82044d2f1af8');\n",
       "          const dataTable =\n",
       "            await google.colab.kernel.invokeFunction('convertToInteractive',\n",
       "                                                     [key], {});\n",
       "          if (!dataTable) return;\n",
       "\n",
       "          const docLinkHtml = 'Like what you see? Visit the ' +\n",
       "            '<a target=\"_blank\" href=https://colab.research.google.com/notebooks/data_table.ipynb>data table notebook</a>'\n",
       "            + ' to learn more about interactive tables.';\n",
       "          element.innerHTML = '';\n",
       "          dataTable['output_type'] = 'display_data';\n",
       "          await google.colab.output.renderOutput(dataTable, element);\n",
       "          const docLink = document.createElement('div');\n",
       "          docLink.innerHTML = docLinkHtml;\n",
       "          element.appendChild(docLink);\n",
       "        }\n",
       "      </script>\n",
       "    </div>\n",
       "  </div>\n",
       "  "
      ],
      "text/plain": [
       "          ASS1       SPX  C6orf141       SP5       SP6     ITGA8    ATP2A1  \\\n",
       "0     3.935027  0.523329  0.000000  0.000000  0.102277  2.686908  2.837357   \n",
       "1     3.372801  0.000000  0.000000  0.000000  0.116270  2.083429  5.567935   \n",
       "2     4.198301  0.000000  0.000000  0.000000  0.249176  1.546059  6.605116   \n",
       "3     4.115014  0.000000  0.000000  0.222018  0.632254  2.158989  6.858708   \n",
       "4     3.662169  0.467823  0.000000  0.000000  0.000000  1.183388  5.567935   \n",
       "...        ...       ...       ...       ...       ...       ...       ...   \n",
       "4331  6.752567  2.061867  2.220238  1.670146  2.089802  4.105404  2.631701   \n",
       "4332  6.481851  0.195973  3.082744  3.152085  1.974102  2.222543  2.449799   \n",
       "4333  7.776659  0.859361  2.016015  1.995366  3.934322  2.520344  3.657478   \n",
       "4334  8.421619  1.287896  0.000000  0.147612  2.094130  2.266953  1.881556   \n",
       "4335  6.678433  0.859361  5.170569  0.631781  1.974102  2.234900  2.836151   \n",
       "\n",
       "        ATP2A3     ITGA2     ITGA3  ...   SULT1B1     IKZF1   SLC14A1  \\\n",
       "0     7.444575  2.246715  0.202624  ...  4.458889  8.972232  1.560704   \n",
       "1     8.361999  3.626850  0.449673  ...  4.322699  8.662337  2.509522   \n",
       "2     9.138359  2.858430  1.624238  ...  3.769234  8.848274  3.137405   \n",
       "3     9.201254  2.295229  0.326149  ...  4.553598  7.730065  3.087055   \n",
       "4     9.040883  1.815837  1.658433  ...  3.937198  8.414421  2.683150   \n",
       "...        ...       ...       ...  ...       ...       ...       ...   \n",
       "4331  3.974129  4.013841  7.201038  ...  0.721246  3.698293  1.362715   \n",
       "4332  5.039194  2.903390  5.600291  ...  0.146986  4.814241  1.090338   \n",
       "4333  3.805650  3.698809  5.940498  ...  0.000000  3.442377  2.463595   \n",
       "4334  3.754020  3.412572  6.569963  ...  0.138372  4.304535  0.841096   \n",
       "4335  3.720234  3.950507  7.413822  ...  0.137971  2.864401  1.830926   \n",
       "\n",
       "        TCEAL2    TCEAL7    TCEAL5       VCAN       CDR1    KRBOX1      SELL  \n",
       "0     0.000000  0.000000  0.000000  11.189255   5.866117  0.000000  7.560923  \n",
       "1     0.000000  0.000000  0.000000   9.472547   6.514825  0.289298  8.023838  \n",
       "2     0.185980  0.000000  0.000000   9.710047   0.000000  0.000000  8.031553  \n",
       "3     0.380857  0.236820  0.000000   6.085074   6.012453  0.411678  5.186830  \n",
       "4     0.176611  0.000000  0.000000   8.203471   5.718898  0.000000  8.031553  \n",
       "...        ...       ...       ...        ...        ...       ...       ...  \n",
       "4331  3.888618  5.573470  4.011728   7.686758   7.651728  3.293383  2.737921  \n",
       "4332  2.564054  4.638007  3.420460   6.780378   6.572266  0.912975  3.518969  \n",
       "4333  5.406420  4.638007  4.104928   6.908519  10.183748  4.845148  2.069559  \n",
       "4334  0.814483  1.931713  2.962235   6.634303   6.314444  1.895622  2.899793  \n",
       "4335  4.964974  2.076271  3.788381   6.595265   0.000000  1.038546  1.524757  \n",
       "\n",
       "[4336 rows x 3000 columns]"
      ]
     },
     "execution_count": 13,
     "metadata": {},
     "output_type": "execute_result"
    }
   ],
   "source": [
    "X"
   ]
  },
  {
   "cell_type": "code",
   "execution_count": 14,
   "metadata": {
    "colab": {
     "base_uri": "https://localhost:8080/",
     "height": 318
    },
    "id": "8L8-s7P4_ebQ",
    "outputId": "4cb0ccf4-45e1-4bd6-a379-8290b17fcf5f"
   },
   "outputs": [
    {
     "data": {
      "text/plain": [
       "<Figure size 432x288 with 0 Axes>"
      ]
     },
     "execution_count": 14,
     "metadata": {},
     "output_type": "execute_result"
    },
    {
     "data": {
      "image/png": "[encoded data removed]",
      "text/plain": [
       "<Figure size 432x288 with 1 Axes>"
      ]
     },
     "metadata": {
      "needs_background": "light"
     },
     "output_type": "display_data"
    },
    {
     "data": {
      "text/plain": [
       "<Figure size 432x288 with 0 Axes>"
      ]
     },
     "metadata": {},
     "output_type": "display_data"
    }
   ],
   "source": [
    "colors = {\"Breast\": '#4287f5',\n",
    "\"Bladder\": '#19c5e3',\n",
    "\"Colon\": '#80d941',\n",
    "\"Glioblastoma\": '#179933',\n",
    "\"Head&Neck\": '#f07e78',\n",
    "\"Kidney\": '#f01e13',\n",
    "\"Leukemia\": '#f0841f',\n",
    "\"LungAdeno\": '#db5209',\n",
    "\"LungSquamous\": '#ce8ced',\n",
    "\"Ovarian\": '#551075',\n",
    "\"Rectal\": '#e3d329',\n",
    "\"Uterine\":'#cc3423'}\n",
    "\n",
    "for color, i, class_name in zip(colors.values(), [0, 1, 2, 3, 4, 5, 6, 7, 8, 9, 10, 11], colors.keys()):\n",
    "    plt.scatter(X_reduced[Y['Class'] == class_name, 0], X_reduced[Y['Class'] == class_name, 1], color=color, alpha=.8, s=10,\n",
    "                label=class_name)\n",
    "plt.legend(loc='best', shadow=False, scatterpoints=1)\n",
    "plt.title('PCA of 9 tumor types')\n",
    "plt.figure()"
   ]
  }
 ],
 "metadata": {
  "colab": {
   "name": "Assignment4_KANG.ipynb",
   "provenance": []
  },
  "kernelspec": {
   "display_name": "Python 3 (ipykernel)",
   "language": "python",
   "name": "python3"
  },
  "language_info": {
   "codemirror_mode": {
    "name": "ipython",
    "version": 3
   },
   "file_extension": ".py",
   "mimetype": "text/x-python",
   "name": "python",
   "nbconvert_exporter": "python",
   "pygments_lexer": "ipython3",
   "version": "3.9.7"
  }
 },
 "nbformat": 4,
 "nbformat_minor": 1
}
