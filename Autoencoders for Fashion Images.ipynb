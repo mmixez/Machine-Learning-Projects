{
  "cells": [
    {
      "cell_type": "markdown",
      "metadata": {
        "id": "PxiUksahBxLi"
      },
      "source": [
        "# <b>CS156 (Introduction to AI), Spring 2022</b>\n",
        "# <u><b>Homework 9 submission</b></u>"
      ]
    },
    {
      "cell_type": "markdown",
      "metadata": {
        "id": "J_ltlBvBBxLs"
      },
      "source": [
        "### Roster Name: Kwangoh Kang\n",
        "### Preferred Name (if different): I can go by Ian too\n",
        "### Student ID: 014808703\n",
        "### Email address: kwangoh.kang@sjsu.edu\n",
        "Any special notes or anything you would like to communicate to me about this homework submission goes in here."
      ]
    },
    {
      "cell_type": "markdown",
      "metadata": {
        "id": "wXLaZi_NBxLt"
      },
      "source": [
        "##  <u>References and sources </u>"
      ]
    },
    {
      "cell_type": "markdown",
      "metadata": {
        "id": "LLQsFNsCBxLu"
      },
      "source": [
        "Provided example file on Canvas class page"
      ]
    },
    {
      "cell_type": "markdown",
      "metadata": {
        "id": "G0WKSYj2BxLu"
      },
      "source": [
        "##  <u>Solution</u>"
      ]
    },
    {
      "cell_type": "markdown",
      "metadata": {
        "id": "lFW4EdJzBxLv"
      },
      "source": [
        "#### Load libraries and set random number generator seed"
      ]
    },
    {
      "cell_type": "code",
      "execution_count": 1,
      "metadata": {
        "id": "ThuTGXDHBxLw"
      },
      "outputs": [],
      "source": [
        "import tensorflow\n",
        "from tensorflow import keras\n",
        "from tensorflow.keras.layers import BatchNormalization\n",
        "from tensorflow.keras.layers import Conv2D\n",
        "from tensorflow.keras.layers import Conv2DTranspose\n",
        "from tensorflow.keras.layers import LeakyReLU\n",
        "from tensorflow.keras.layers import Activation\n",
        "from tensorflow.keras.layers import Flatten\n",
        "from tensorflow.keras.layers import Dense\n",
        "from tensorflow.keras.layers import Reshape\n",
        "from tensorflow.keras.layers import Input\n",
        "from tensorflow.keras.models import Model\n",
        "from tensorflow.keras import backend as K\n",
        "import numpy as np\n",
        "from tensorflow.keras.layers import Dense, Input, Conv2D, LSTM, MaxPool2D, UpSampling2D\n",
        "from sklearn.model_selection import train_test_split\n",
        "from tensorflow.keras.callbacks import EarlyStopping\n",
        "from tensorflow.keras.utils import to_categorical\n",
        "from numpy import argmax, array_equal\n",
        "import matplotlib.pyplot as plt\n",
        "import seaborn as sns\n",
        "from tensorflow.keras.models import Model\n",
        "from random import randint\n",
        "import pandas as pd\n",
        "import numpy as np\n",
        "from tensorflow.keras import layers\n",
        "from PIL import Image\n",
        "from tensorflow.keras import regularizers\n",
        "from tensorflow.keras import backend\n",
        "from datetime import datetime"
      ]
    },
    {
      "cell_type": "code",
      "execution_count": 2,
      "metadata": {
        "id": "haI3p8P2BxLx"
      },
      "outputs": [],
      "source": [
        "np.random.seed(42)"
      ]
    },
    {
      "cell_type": "markdown",
      "metadata": {
        "id": "wXJX3J-rBxLy"
      },
      "source": [
        "#### Code the solution"
      ]
    },
    {
      "cell_type": "code",
      "execution_count": 3,
      "metadata": {
        "id": "faaRRdbzBxLz",
        "colab": {
          "base_uri": "https://localhost:8080/"
        },
        "outputId": "a680af66-b6aa-41f8-ed8b-fd271e6e7d1f"
      },
      "outputs": [
        {
          "output_type": "stream",
          "name": "stdout",
          "text": [
            "Downloading data from https://storage.googleapis.com/tensorflow/tf-keras-datasets/train-labels-idx1-ubyte.gz\n",
            "32768/29515 [=================================] - 0s 0us/step\n",
            "40960/29515 [=========================================] - 0s 0us/step\n",
            "Downloading data from https://storage.googleapis.com/tensorflow/tf-keras-datasets/train-images-idx3-ubyte.gz\n",
            "26427392/26421880 [==============================] - 0s 0us/step\n",
            "26435584/26421880 [==============================] - 0s 0us/step\n",
            "Downloading data from https://storage.googleapis.com/tensorflow/tf-keras-datasets/t10k-labels-idx1-ubyte.gz\n",
            "16384/5148 [===============================================================================================] - 0s 0us/step\n",
            "Downloading data from https://storage.googleapis.com/tensorflow/tf-keras-datasets/t10k-images-idx3-ubyte.gz\n",
            "4423680/4422102 [==============================] - 0s 0us/step\n",
            "4431872/4422102 [==============================] - 0s 0us/step\n"
          ]
        },
        {
          "output_type": "execute_result",
          "data": {
            "text/plain": [
              "((48000, 28, 28), (12000, 28, 28), (10000, 28, 28))"
            ]
          },
          "metadata": {},
          "execution_count": 3
        }
      ],
      "source": [
        "input_shape = (28, 28, 1)\n",
        "\n",
        "# the data, split between train and test sets\n",
        "(x_train_valid, y_train_valid), (x_test, y_test) = keras.datasets.fashion_mnist.load_data()\n",
        "x_train, x_validation, y_train, y_validation = train_test_split(x_train_valid, y_train_valid, test_size=0.2, random_state=0)\n",
        "\n",
        "# Scale images to the [0, 1] range\n",
        "x_train = x_train.astype(\"float32\") / 255\n",
        "x_validation = x_validation.astype(\"float32\") / 255\n",
        "x_test = x_test.astype(\"float32\") / 255\n",
        "\n",
        "x_train.shape, x_validation.shape, x_test.shape"
      ]
    },
    {
      "cell_type": "code",
      "execution_count": 4,
      "metadata": {
        "id": "6vbws_9pBxL0",
        "colab": {
          "base_uri": "https://localhost:8080/"
        },
        "outputId": "08bbc72b-12c2-4c08-e1ff-b91461e12597"
      },
      "outputs": [
        {
          "output_type": "execute_result",
          "data": {
            "text/plain": [
              "((48000, 784), (12000, 784), (10000, 784))"
            ]
          },
          "metadata": {},
          "execution_count": 4
        }
      ],
      "source": [
        " #Reshape the images into flat ANN layers\n",
        "x_train_flat = x_train.reshape(-1, 784)\n",
        "x_validation_flat = x_validation.reshape(-1, 784)\n",
        "x_test_flat = x_test.reshape(-1, 784)\n",
        "x_train_flat.shape, x_validation_flat.shape, x_test_flat.shape\n"
      ]
    },
    {
      "cell_type": "code",
      "execution_count": 5,
      "metadata": {
        "id": "QGKCRGeDBxL0",
        "colab": {
          "base_uri": "https://localhost:8080/"
        },
        "outputId": "ce381da2-f690-4640-a194-e21f3358a2a9"
      },
      "outputs": [
        {
          "output_type": "stream",
          "name": "stdout",
          "text": [
            "Model: \"model\"\n",
            "_________________________________________________________________\n",
            " Layer (type)                Output Shape              Param #   \n",
            "=================================================================\n",
            " input_1 (InputLayer)        [(None, 784)]             0         \n",
            "                                                                 \n",
            " dense (Dense)               (None, 128)               100480    \n",
            "                                                                 \n",
            " dense_1 (Dense)             (None, 64)                8256      \n",
            "                                                                 \n",
            " dense_2 (Dense)             (None, 32)                2080      \n",
            "                                                                 \n",
            " dense_3 (Dense)             (None, 64)                2112      \n",
            "                                                                 \n",
            " dense_4 (Dense)             (None, 128)               8320      \n",
            "                                                                 \n",
            " dense_5 (Dense)             (None, 784)               101136    \n",
            "                                                                 \n",
            "=================================================================\n",
            "Total params: 222,384\n",
            "Trainable params: 222,384\n",
            "Non-trainable params: 0\n",
            "_________________________________________________________________\n"
          ]
        }
      ],
      "source": [
        "input_layer = Input(shape=(784,))   # 28*28\n",
        "encoded = layers.Dense(128, activation='relu')(input_layer)\n",
        "encoded = layers.Dense(64, activation='relu')(encoded)\n",
        "\n",
        "encoded = layers.Dense(32, activation='relu')(encoded)\n",
        "\n",
        "decoded = layers.Dense(64, activation='relu')(encoded)\n",
        "decoded = layers.Dense(128, activation='relu')(decoded)\n",
        "decoded = layers.Dense(784, activation='sigmoid')(decoded)\n",
        "\n",
        "# reconstruction model:\n",
        "autoencoder = keras.Model(input_layer, decoded)\n",
        "\n",
        "# encoder model:\n",
        "encoder = keras.Model(input_layer, encoded)\n",
        "\n",
        "# decoder model:\n",
        "encoded_input = keras.Input(shape=(32,))\n",
        "decoder_layer = autoencoder.layers[-3]  # last layer of autoencoder model\n",
        "decoder = keras.Model(encoded_input, decoder_layer(encoded_input))\n",
        "\n",
        "autoencoder.summary()\n"
      ]
    },
    {
      "cell_type": "code",
      "source": [
        "autoencoder.compile(optimizer='adam', loss='binary_crossentropy')\n",
        "\n",
        "autoencoder.fit(x_train_flat, x_train_flat,\n",
        "                epochs=30,\n",
        "                batch_size=2048,\n",
        "                shuffle=True,\n",
        "                validation_data=(x_test_flat, x_test_flat))"
      ],
      "metadata": {
        "colab": {
          "base_uri": "https://localhost:8080/"
        },
        "id": "XmgHFyUGVjnE",
        "outputId": "215007d6-767e-4849-8ecc-274a1fd8add6"
      },
      "execution_count": 6,
      "outputs": [
        {
          "output_type": "stream",
          "name": "stdout",
          "text": [
            "Epoch 1/30\n",
            "24/24 [==============================] - 3s 98ms/step - loss: 0.6016 - val_loss: 0.4924\n",
            "Epoch 2/30\n",
            "24/24 [==============================] - 2s 90ms/step - loss: 0.4404 - val_loss: 0.4013\n",
            "Epoch 3/30\n",
            "24/24 [==============================] - 2s 90ms/step - loss: 0.3836 - val_loss: 0.3708\n",
            "Epoch 4/30\n",
            "24/24 [==============================] - 2s 88ms/step - loss: 0.3587 - val_loss: 0.3486\n",
            "Epoch 5/30\n",
            "24/24 [==============================] - 2s 91ms/step - loss: 0.3396 - val_loss: 0.3324\n",
            "Epoch 6/30\n",
            "24/24 [==============================] - 2s 92ms/step - loss: 0.3268 - val_loss: 0.3241\n",
            "Epoch 7/30\n",
            "24/24 [==============================] - 2s 91ms/step - loss: 0.3197 - val_loss: 0.3192\n",
            "Epoch 8/30\n",
            "24/24 [==============================] - 2s 89ms/step - loss: 0.3168 - val_loss: 0.3164\n",
            "Epoch 9/30\n",
            "24/24 [==============================] - 2s 90ms/step - loss: 0.3128 - val_loss: 0.3136\n",
            "Epoch 10/30\n",
            "24/24 [==============================] - 2s 92ms/step - loss: 0.3109 - val_loss: 0.3117\n",
            "Epoch 11/30\n",
            "24/24 [==============================] - 2s 92ms/step - loss: 0.3090 - val_loss: 0.3103\n",
            "Epoch 12/30\n",
            "24/24 [==============================] - 2s 93ms/step - loss: 0.3082 - val_loss: 0.3090\n",
            "Epoch 13/30\n",
            "24/24 [==============================] - 2s 91ms/step - loss: 0.3061 - val_loss: 0.3077\n",
            "Epoch 14/30\n",
            "24/24 [==============================] - 2s 92ms/step - loss: 0.3048 - val_loss: 0.3063\n",
            "Epoch 15/30\n",
            "24/24 [==============================] - 2s 92ms/step - loss: 0.3047 - val_loss: 0.3056\n",
            "Epoch 16/30\n",
            "24/24 [==============================] - 2s 91ms/step - loss: 0.3025 - val_loss: 0.3041\n",
            "Epoch 17/30\n",
            "24/24 [==============================] - 2s 89ms/step - loss: 0.3016 - val_loss: 0.3032\n",
            "Epoch 18/30\n",
            "24/24 [==============================] - 2s 90ms/step - loss: 0.3007 - val_loss: 0.3028\n",
            "Epoch 19/30\n",
            "24/24 [==============================] - 2s 90ms/step - loss: 0.3001 - val_loss: 0.3017\n",
            "Epoch 20/30\n",
            "24/24 [==============================] - 3s 115ms/step - loss: 0.2993 - val_loss: 0.3018\n",
            "Epoch 21/30\n",
            "24/24 [==============================] - 2s 102ms/step - loss: 0.2985 - val_loss: 0.3001\n",
            "Epoch 22/30\n",
            "24/24 [==============================] - 2s 90ms/step - loss: 0.2981 - val_loss: 0.3003\n",
            "Epoch 23/30\n",
            "24/24 [==============================] - 2s 91ms/step - loss: 0.2973 - val_loss: 0.2989\n",
            "Epoch 24/30\n",
            "24/24 [==============================] - 2s 93ms/step - loss: 0.2965 - val_loss: 0.2984\n",
            "Epoch 25/30\n",
            "24/24 [==============================] - 2s 92ms/step - loss: 0.2968 - val_loss: 0.3005\n",
            "Epoch 26/30\n",
            "24/24 [==============================] - 2s 92ms/step - loss: 0.2962 - val_loss: 0.2974\n",
            "Epoch 27/30\n",
            "24/24 [==============================] - 2s 92ms/step - loss: 0.2950 - val_loss: 0.2969\n",
            "Epoch 28/30\n",
            "24/24 [==============================] - 2s 92ms/step - loss: 0.2945 - val_loss: 0.2966\n",
            "Epoch 29/30\n",
            "24/24 [==============================] - 2s 93ms/step - loss: 0.2944 - val_loss: 0.2964\n",
            "Epoch 30/30\n",
            "24/24 [==============================] - 2s 90ms/step - loss: 0.2939 - val_loss: 0.2958\n"
          ]
        },
        {
          "output_type": "execute_result",
          "data": {
            "text/plain": [
              "<keras.callbacks.History at 0x7fd62e84c690>"
            ]
          },
          "metadata": {},
          "execution_count": 6
        }
      ]
    },
    {
      "cell_type": "code",
      "source": [
        "#encoded_imgs = encoder.predict(x_test_flat)\n",
        "#decoded_imgs = decoder.predict(encoded_imgs)\n",
        "\n",
        "encoded_imgs = encoder.predict(x_test_flat)\n",
        "decoded_imgs = decoder.predict(encoded_imgs)"
      ],
      "metadata": {
        "id": "zBu8otrzoRhf"
      },
      "execution_count": 7,
      "outputs": []
    },
    {
      "cell_type": "code",
      "source": [
        "predictions = autoencoder.predict(x_test_flat)\n",
        "\n",
        "n = 10\n",
        "plt.figure(figsize=(20, 4))\n",
        "for i in range(n):\n",
        "    # original\n",
        "    ax = plt.subplot(2, n, i + 1)\n",
        "    plt.imshow(x_test[i].reshape(28, 28))\n",
        "    plt.gray()\n",
        "    ax.get_xaxis().set_visible(False)\n",
        "    ax.get_yaxis().set_visible(False)\n",
        "\n",
        "    # reconstruction\n",
        "    ax = plt.subplot(2, n, i + 1 + n)\n",
        "    plt.imshow(predictions[i].reshape(28, 28))\n",
        "    plt.gray()\n",
        "    ax.get_xaxis().set_visible(False)\n",
        "    ax.get_yaxis().set_visible(False)\n",
        "plt.show()"
      ],
      "metadata": {
        "colab": {
          "base_uri": "https://localhost:8080/",
          "height": 247
        },
        "id": "oMn7mTZ7oTiW",
        "outputId": "7d4473d8-3e71-46b4-89ec-bfe5c698f917"
      },
      "execution_count": 10,
      "outputs": [
        {
          "output_type": "display_data",
          "data": {
            "text/plain": [
              "<Figure size 1440x288 with 20 Axes>"
            ],
            "image/png": "[encoded data removed]"
          },
          "metadata": {
            "needs_background": "light"
          }
        }
      ]
    },
    {
      "cell_type": "code",
      "source": [
        "noise_factor = 0.5\n",
        "x_train_noisy = x_train + noise_factor * np.random.normal(loc=0.0, scale=1.0, size=x_train.shape) \n",
        "x_validation_noisy = x_validation + noise_factor * np.random.normal(loc=0.0, scale=1.0, size=x_validation.shape) \n",
        "x_test_noisy = x_test + noise_factor * np.random.normal(loc=0.0, scale=1.0, size=x_test.shape) \n",
        "\n",
        "x_train_noisy = np.clip(x_train_noisy, 0., 1.)\n",
        "x_validation_noisy = np.clip(x_validation_noisy, 0., 1.)\n",
        "x_test_noisy = np.clip(x_test_noisy, 0., 1.)"
      ],
      "metadata": {
        "id": "iq3GIkiYO4oy"
      },
      "execution_count": 11,
      "outputs": []
    },
    {
      "cell_type": "code",
      "source": [
        "n = 10\n",
        "plt.figure(figsize=(20, 2))\n",
        "for i in range(1, n + 1):\n",
        "    ax = plt.subplot(1, n, i)\n",
        "    plt.imshow(x_test_noisy[i].reshape(28, 28))\n",
        "    plt.gray()\n",
        "    ax.get_xaxis().set_visible(False)\n",
        "    ax.get_yaxis().set_visible(False)\n",
        "plt.show()"
      ],
      "metadata": {
        "colab": {
          "base_uri": "https://localhost:8080/",
          "height": 128
        },
        "id": "TX7XlsZ-UV0Y",
        "outputId": "28f0d24a-1dd3-4632-b635-b82fd7756d36"
      },
      "execution_count": 12,
      "outputs": [
        {
          "output_type": "display_data",
          "data": {
            "text/plain": [
              "<Figure size 1440x144 with 10 Axes>"
            ],
            "image/png": "[encoded data removed]"
          },
          "metadata": {
            "needs_background": "light"
          }
        }
      ]
    },
    {
      "cell_type": "code",
      "source": [
        "input_layer = keras.Input(shape=(28, 28, 1))\n",
        "\n",
        "x = layers.Conv2D(32, (3, 3), activation='relu', padding='same')(input_layer)\n",
        "x = layers.MaxPooling2D((2, 2), padding='same')(x)\n",
        "x = layers.Conv2D(32, (3, 3), activation='relu', padding='same')(x)\n",
        "encoded = layers.MaxPooling2D((2, 2), padding='same')(x)\n",
        "\n",
        "# At this point the representation is (7, 7, 32)\n",
        "\n",
        "x = layers.Conv2D(32, (3, 3), activation='relu', padding='same')(encoded)\n",
        "x = layers.UpSampling2D((2, 2))(x)\n",
        "x = layers.Conv2D(32, (3, 3), activation='relu', padding='same')(x)\n",
        "x = layers.UpSampling2D((2, 2))(x)\n",
        "decoded = layers.Conv2D(1, (3, 3), activation='sigmoid', padding='same')(x)\n",
        "\n",
        "autoencoder = keras.Model(input_layer, decoded)\n",
        "autoencoder.compile(optimizer='adam', loss='binary_crossentropy')\n",
        "\n",
        "autoencoder.summary()"
      ],
      "metadata": {
        "colab": {
          "base_uri": "https://localhost:8080/"
        },
        "id": "S_04s5xXUjB4",
        "outputId": "e611dc9a-b242-40cb-afcc-f68a12682ec5"
      },
      "execution_count": 13,
      "outputs": [
        {
          "output_type": "stream",
          "name": "stdout",
          "text": [
            "Model: \"model_3\"\n",
            "_________________________________________________________________\n",
            " Layer (type)                Output Shape              Param #   \n",
            "=================================================================\n",
            " input_3 (InputLayer)        [(None, 28, 28, 1)]       0         \n",
            "                                                                 \n",
            " conv2d (Conv2D)             (None, 28, 28, 32)        320       \n",
            "                                                                 \n",
            " max_pooling2d (MaxPooling2D  (None, 14, 14, 32)       0         \n",
            " )                                                               \n",
            "                                                                 \n",
            " conv2d_1 (Conv2D)           (None, 14, 14, 32)        9248      \n",
            "                                                                 \n",
            " max_pooling2d_1 (MaxPooling  (None, 7, 7, 32)         0         \n",
            " 2D)                                                             \n",
            "                                                                 \n",
            " conv2d_2 (Conv2D)           (None, 7, 7, 32)          9248      \n",
            "                                                                 \n",
            " up_sampling2d (UpSampling2D  (None, 14, 14, 32)       0         \n",
            " )                                                               \n",
            "                                                                 \n",
            " conv2d_3 (Conv2D)           (None, 14, 14, 32)        9248      \n",
            "                                                                 \n",
            " up_sampling2d_1 (UpSampling  (None, 28, 28, 32)       0         \n",
            " 2D)                                                             \n",
            "                                                                 \n",
            " conv2d_4 (Conv2D)           (None, 28, 28, 1)         289       \n",
            "                                                                 \n",
            "=================================================================\n",
            "Total params: 28,353\n",
            "Trainable params: 28,353\n",
            "Non-trainable params: 0\n",
            "_________________________________________________________________\n"
          ]
        }
      ]
    },
    {
      "cell_type": "code",
      "source": [
        "autoencoder.fit(x_train_noisy, x_train,\n",
        "                epochs=20,\n",
        "                batch_size=2048,\n",
        "                shuffle=True,\n",
        "                validation_data=(x_validation_noisy, x_validation))"
      ],
      "metadata": {
        "colab": {
          "base_uri": "https://localhost:8080/"
        },
        "id": "7Fe4eKKgrEaK",
        "outputId": "db78f17c-15d8-45dd-8734-d8a79f54bca4"
      },
      "execution_count": 15,
      "outputs": [
        {
          "output_type": "stream",
          "name": "stdout",
          "text": [
            "Epoch 1/20\n",
            "24/24 [==============================] - 106s 4s/step - loss: 0.5542 - val_loss: 0.4124\n",
            "Epoch 2/20\n",
            "24/24 [==============================] - 106s 4s/step - loss: 0.3708 - val_loss: 0.3429\n",
            "Epoch 3/20\n",
            "24/24 [==============================] - 106s 4s/step - loss: 0.3355 - val_loss: 0.3292\n",
            "Epoch 4/20\n",
            "24/24 [==============================] - 106s 4s/step - loss: 0.3269 - val_loss: 0.3234\n",
            "Epoch 5/20\n",
            "24/24 [==============================] - 106s 4s/step - loss: 0.3219 - val_loss: 0.3193\n",
            "Epoch 6/20\n",
            "24/24 [==============================] - 106s 4s/step - loss: 0.3183 - val_loss: 0.3170\n",
            "Epoch 7/20\n",
            "24/24 [==============================] - 106s 4s/step - loss: 0.3160 - val_loss: 0.3143\n",
            "Epoch 8/20\n",
            "24/24 [==============================] - 106s 4s/step - loss: 0.3143 - val_loss: 0.3128\n",
            "Epoch 9/20\n",
            "24/24 [==============================] - 106s 4s/step - loss: 0.3127 - val_loss: 0.3115\n",
            "Epoch 10/20\n",
            "24/24 [==============================] - 106s 4s/step - loss: 0.3115 - val_loss: 0.3105\n",
            "Epoch 11/20\n",
            "24/24 [==============================] - 106s 4s/step - loss: 0.3109 - val_loss: 0.3102\n",
            "Epoch 12/20\n",
            "24/24 [==============================] - 106s 4s/step - loss: 0.3098 - val_loss: 0.3088\n",
            "Epoch 13/20\n",
            "24/24 [==============================] - 107s 4s/step - loss: 0.3088 - val_loss: 0.3084\n",
            "Epoch 14/20\n",
            "24/24 [==============================] - 106s 4s/step - loss: 0.3082 - val_loss: 0.3078\n",
            "Epoch 15/20\n",
            "24/24 [==============================] - 106s 4s/step - loss: 0.3078 - val_loss: 0.3069\n",
            "Epoch 16/20\n",
            "24/24 [==============================] - 107s 4s/step - loss: 0.3071 - val_loss: 0.3066\n",
            "Epoch 17/20\n",
            "24/24 [==============================] - 106s 4s/step - loss: 0.3066 - val_loss: 0.3059\n",
            "Epoch 18/20\n",
            "24/24 [==============================] - 105s 4s/step - loss: 0.3061 - val_loss: 0.3057\n",
            "Epoch 19/20\n",
            "24/24 [==============================] - 107s 4s/step - loss: 0.3056 - val_loss: 0.3050\n",
            "Epoch 20/20\n",
            "24/24 [==============================] - 107s 4s/step - loss: 0.3052 - val_loss: 0.3049\n"
          ]
        },
        {
          "output_type": "execute_result",
          "data": {
            "text/plain": [
              "<keras.callbacks.History at 0x7fd62436a050>"
            ]
          },
          "metadata": {},
          "execution_count": 15
        }
      ]
    },
    {
      "cell_type": "code",
      "execution_count": 16,
      "metadata": {
        "id": "n7fuzOcUBxL1",
        "colab": {
          "base_uri": "https://localhost:8080/",
          "height": 247
        },
        "outputId": "60dbc356-f8e7-46f8-d626-2ee312d1771a"
      },
      "outputs": [
        {
          "output_type": "display_data",
          "data": {
            "text/plain": [
              "<Figure size 1440x288 with 20 Axes>"
            ],
            "image/png": "[encoded data removed]"
          },
          "metadata": {
            "needs_background": "light"
          }
        }
      ],
      "source": [
        "predictions = autoencoder.predict(x_test)\n",
        "\n",
        "n = 10\n",
        "plt.figure(figsize=(20, 4))\n",
        "for i in range(n):\n",
        "    # noisy\n",
        "    ax = plt.subplot(2, n, i + 1)\n",
        "    plt.imshow(x_test_noisy[i].reshape(28, 28))\n",
        "    plt.gray()\n",
        "    ax.get_xaxis().set_visible(False)\n",
        "    ax.get_yaxis().set_visible(False)\n",
        "\n",
        "    # reconstruction\n",
        "    ax = plt.subplot(2, n, i + 1 + n)\n",
        "    plt.imshow(predictions[i].reshape(28, 28))\n",
        "    plt.gray()\n",
        "    ax.get_xaxis().set_visible(False)\n",
        "    ax.get_yaxis().set_visible(False)\n",
        "plt.show()"
      ]
    }
  ],
  "metadata": {
    "kernelspec": {
      "display_name": "Python 3",
      "language": "python",
      "name": "python3"
    },
    "language_info": {
      "codemirror_mode": {
        "name": "ipython",
        "version": 3
      },
      "file_extension": ".py",
      "mimetype": "text/x-python",
      "name": "python",
      "nbconvert_exporter": "python",
      "pygments_lexer": "ipython3",
      "version": "3.8.3"
    },
    "colab": {
      "name": "Assignment9_KANG.ipynb",
      "provenance": [],
      "collapsed_sections": []
    }
  },
  "nbformat": 4,
  "nbformat_minor": 0
}