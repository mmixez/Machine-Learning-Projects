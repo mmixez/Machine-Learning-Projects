{
 "cells": [
  {
   "cell_type": "code",
   "execution_count": 31,
   "metadata": {
    "id": "RQOcAJdc-PP1"
   },
   "outputs": [],
   "source": [
    "import numpy as np\n",
    "import scipy.spatial \n",
    "from collections import Counter\n",
    "import pandas as pd\n",
    "import matplotlib.pyplot as plt\n",
    "import seaborn as sns\n",
    "from matplotlib.colors import ListedColormap\n",
    "from mpl_toolkits.mplot3d import Axes3D\n",
    "from scipy.spatial import distance\n",
    "from sklearn.model_selection import train_test_split\n",
    "import collections\n",
    "import math"
   ]
  },
  {
   "cell_type": "code",
   "execution_count": 32,
   "metadata": {
    "id": "foMVufFeK_Hm"
   },
   "outputs": [],
   "source": [
    "np.random.seed(42)"
   ]
  },
  {
   "cell_type": "code",
   "execution_count": 33,
   "metadata": {
    "id": "rjDb9t1FvSZf"
   },
   "outputs": [],
   "source": [
    "#2D Data"
   ]
  },
  {
   "cell_type": "code",
   "execution_count": 34,
   "metadata": {
    "id": "FyuNsJRFLN1w"
   },
   "outputs": [],
   "source": [
    "n = 100 #data points\n",
    "\n",
    "Y = np.random.randn(n)\n",
    "X1 = np.random.normal(loc=-2.0, scale=2.0, size=int(n/2))\n",
    "X2 = np.random.normal(loc=2.0, scale=2.0, size=int(n/2))\n",
    "\n",
    "Y1 = np.random.normal(loc=0.0, scale=1.0, size=int(n/2) )\n",
    "Y2 = np.random.normal(loc=0.0, scale=1.0, size=int(n/2))\n",
    "\n",
    "X = np.concatenate((X1, X2), axis=0)\n",
    "Y = np.concatenate((Y1, Y2), axis=0)"
   ]
  },
  {
   "cell_type": "code",
   "execution_count": 35,
   "metadata": {
    "colab": {
     "base_uri": "https://localhost:8080/"
    },
    "id": "5wi4EN6WLQxh",
    "outputId": "b4e10714-6264-4d4c-e5c3-d1130fea7495"
   },
   "outputs": [
    {
     "name": "stdout",
     "output_type": "stream",
     "text": [
      "[0, 0, 0, 0, 0, 0, 0, 0, 0, 0, 0, 0, 0, 0, 0, 0, 0, 0, 0, 0, 0, 0, 0, 0, 0, 0, 0, 0, 0, 0, 0, 0, 0, 0, 0, 0, 0, 0, 0, 0, 0, 0, 0, 0, 0, 0, 0, 0, 0, 0, 1, 1, 1, 1, 1, 1, 1, 1, 1, 1, 1, 1, 1, 1, 1, 1, 1, 1, 1, 1, 1, 1, 1, 1, 1, 1, 1, 1, 1, 1, 1, 1, 1, 1, 1, 1, 1, 1, 1, 1, 1, 1, 1, 1, 1, 1, 1, 1, 1, 1]\n"
     ]
    }
   ],
   "source": [
    "l1 = [0]*int(n/2)\n",
    "l2 = [1]*int(n/2)\n",
    "labels = l1+l2\n",
    "print(labels)"
   ]
  },
  {
   "cell_type": "code",
   "execution_count": 36,
   "metadata": {
    "id": "0CmuWa-zLWse"
   },
   "outputs": [],
   "source": [
    "dt = pd.DataFrame({'X':X, 'Y':Y}, columns=['X', 'Y'])\n",
    "X_train, X_test, Y_train, Y_test = train_test_split(dt, labels, test_size = 0.2, random_state = 0)\n",
    "train_data = X_train\n",
    "test_data = X_test\n",
    "train_data.insert(loc=2, column='L', value=Y_train)\n",
    "test_data.insert(loc=2, column='L', value=Y_test)\n",
    "\n"
   ]
  },
  {
   "cell_type": "markdown",
   "metadata": {
    "id": "_1GD6SWXln5s"
   },
   "source": []
  },
  {
   "cell_type": "code",
   "execution_count": 37,
   "metadata": {
    "id": "2NIP3jA5Q_if"
   },
   "outputs": [],
   "source": [
    "def knn(newObservation, referenceData, k = 3):\n",
    "  lst = []\n",
    "  for i, row in referenceData.iterrows():\n",
    "    dist = distance.euclidean(newObservation[0:-1], row[0:-1])\n",
    "    lst.append(((dist, row[-1])))\n",
    "  \n",
    "  lst = sorted(lst, key = lambda dis_label: dis_label[0])\n",
    "  new_lst = []\n",
    "  for item in lst:\n",
    "    new_lst.append(item[1])\n",
    " \n",
    "  dic = Counter(new_lst[0:k])\n",
    "  #print(dic)\n",
    "  max_count = 0\n",
    "  max_key = None\n",
    "  for key in dic:\n",
    "    if dic[key] > max_count:\n",
    "      max_count = dic[key]\n",
    "      max_key = key\n",
    "  #print(max_key)\n",
    "  return max_key\n",
    "\n"
   ]
  },
  {
   "cell_type": "code",
   "execution_count": 38,
   "metadata": {
    "colab": {
     "base_uri": "https://localhost:8080/"
    },
    "id": "7D-Y2oLoVSb8",
    "outputId": "9920e5ce-f575-4564-fb50-073710ece8fc"
   },
   "outputs": [
    {
     "name": "stdout",
     "output_type": "stream",
     "text": [
      "Accuracy of the predicitions on the test dataset is 0.85\n"
     ]
    }
   ],
   "source": [
    "pred_results = []\n",
    "correct_answers = 0\n",
    "count = 0\n",
    "for index, test in test_data.iterrows():\n",
    "  output = knn(test, train_data)\n",
    "  pred_results.append(output)\n",
    "  if output == test[2]:\n",
    "    correct_answers += 1\n",
    "print(\"Accuracy of the predicitions on the test dataset is {0}\".format(correct_answers/len(test_data)))"
   ]
  },
  {
   "cell_type": "code",
   "execution_count": 39,
   "metadata": {
    "colab": {
     "base_uri": "https://localhost:8080/",
     "height": 297
    },
    "id": "uEVJFfkItZ9t",
    "outputId": "07dc1585-59fd-422e-f996-bdf067ef8d2c"
   },
   "outputs": [
    {
     "data": {
      "image/png": "[encoded data removed]",
      "text/plain": [
       "<Figure size 432x288 with 2 Axes>"
      ]
     },
     "metadata": {
      "needs_background": "light"
     },
     "output_type": "display_data"
    }
   ],
   "source": [
    "\n",
    "plt.subplot(1, 2, 1)\n",
    "plt.scatter(train_data.iloc[:,0],train_data.iloc[:,1], s=25, c=train_data.iloc[:, 2], marker=\".\")\n",
    "plt.scatter(test_data.iloc[:,0], test_data.iloc[:,1], s=50, c=test_data.iloc[:, 2], marker=\"v\")\n",
    "plt.title(\"Actual labels\")\n",
    "\n",
    "plt.subplot(1, 2, 2)\n",
    "plt.scatter(train_data.iloc[:,0],train_data.iloc[:,1], s=25, c=train_data.iloc[:, 2], marker=\".\")\n",
    "plt.scatter(test_data.iloc[:,0], test_data.iloc[:,1], s=50, c=pred_results, marker=\"v\")\n",
    "plt.title(\"Predicted labels\")\n",
    "\n",
    "plt.tight_layout()\n",
    "plt.show()"
   ]
  },
  {
   "cell_type": "code",
   "execution_count": 25,
   "metadata": {
    "id": "Q1S0boCsx9x0"
   },
   "outputs": [],
   "source": [
    "#3D Data"
   ]
  },
  {
   "cell_type": "code",
   "execution_count": 26,
   "metadata": {
    "id": "5FJKQoPzvl9C"
   },
   "outputs": [],
   "source": [
    "n = 1000 #data points\n",
    "\n",
    "Y = np.random.randn(n)\n",
    "X1 = np.random.normal(loc=0.0, scale=3.0, size=int(n/4))\n",
    "X2 = np.random.normal(loc=0.0, scale=3.0, size=int(n/4))\n",
    "X3 = np.random.normal(loc=0.0, scale=3.0, size=int(n/4))\n",
    "X4 = np.random.normal(loc=0.0, scale=3.0, size=int(n/4))\n",
    "X = np.concatenate((X1, X2, X3, X4), axis=0)\n",
    "\n",
    "Y1 = np.random.normal(loc=-3.0, scale=1.0, size=int(n/4))\n",
    "Y2 = np.random.normal(loc=1.0, scale=2.0, size=int(n/4))\n",
    "Y3 = np.random.normal(loc=3.0, scale=1.0, size = int(n/4))\n",
    "Y4 = np.random.normal(loc=5.0, scale=3.0, size = int(n/4))\n",
    "Y = np.concatenate((Y1, Y2, Y3, Y4), axis=0)\n",
    "\n",
    "Z1 = np.random.normal(loc=-1.0, scale = 1.0, size = int(n/4))\n",
    "Z2 = np.random.normal(loc=1.0, scale=1.0, size = int(n/4))\n",
    "Z3 = np.random.normal(loc=4.0, scale= 1.0, size = int(n/4))\n",
    "Z4 = np.random.normal(loc=-3, scale= 1.0, size = int(n/4))\n",
    "Z = np.concatenate((Z1, Z2, Z3, Z4), axis = 0)\n"
   ]
  },
  {
   "cell_type": "code",
   "execution_count": 27,
   "metadata": {
    "colab": {
     "base_uri": "https://localhost:8080/"
    },
    "id": "u9nvbfrnwzN7",
    "outputId": "7a25b4f5-dea9-4c8f-8c7d-bb7bce360ad6"
   },
   "outputs": [
    {
     "name": "stdout",
     "output_type": "stream",
     "text": [
      "[0, 0, 0, 0, 0, 0, 0, 0, 0, 0, 0, 0, 0, 0, 0, 0, 0, 0, 0, 0, 0, 0, 0, 0, 0, 0, 0, 0, 0, 0, 0, 0, 0, 0, 0, 0, 0, 0, 0, 0, 0, 0, 0, 0, 0, 0, 0, 0, 0, 0, 0, 0, 0, 0, 0, 0, 0, 0, 0, 0, 0, 0, 0, 0, 0, 0, 0, 0, 0, 0, 0, 0, 0, 0, 0, 0, 0, 0, 0, 0, 0, 0, 0, 0, 0, 0, 0, 0, 0, 0, 0, 0, 0, 0, 0, 0, 0, 0, 0, 0, 0, 0, 0, 0, 0, 0, 0, 0, 0, 0, 0, 0, 0, 0, 0, 0, 0, 0, 0, 0, 0, 0, 0, 0, 0, 0, 0, 0, 0, 0, 0, 0, 0, 0, 0, 0, 0, 0, 0, 0, 0, 0, 0, 0, 0, 0, 0, 0, 0, 0, 0, 0, 0, 0, 0, 0, 0, 0, 0, 0, 0, 0, 0, 0, 0, 0, 0, 0, 0, 0, 0, 0, 0, 0, 0, 0, 0, 0, 0, 0, 0, 0, 0, 0, 0, 0, 0, 0, 0, 0, 0, 0, 0, 0, 0, 0, 0, 0, 0, 0, 0, 0, 0, 0, 0, 0, 0, 0, 0, 0, 0, 0, 0, 0, 0, 0, 0, 0, 0, 0, 0, 0, 0, 0, 0, 0, 0, 0, 0, 0, 0, 0, 0, 0, 0, 0, 0, 0, 0, 0, 0, 0, 0, 0, 0, 0, 0, 0, 0, 0, 1, 1, 1, 1, 1, 1, 1, 1, 1, 1, 1, 1, 1, 1, 1, 1, 1, 1, 1, 1, 1, 1, 1, 1, 1, 1, 1, 1, 1, 1, 1, 1, 1, 1, 1, 1, 1, 1, 1, 1, 1, 1, 1, 1, 1, 1, 1, 1, 1, 1, 1, 1, 1, 1, 1, 1, 1, 1, 1, 1, 1, 1, 1, 1, 1, 1, 1, 1, 1, 1, 1, 1, 1, 1, 1, 1, 1, 1, 1, 1, 1, 1, 1, 1, 1, 1, 1, 1, 1, 1, 1, 1, 1, 1, 1, 1, 1, 1, 1, 1, 1, 1, 1, 1, 1, 1, 1, 1, 1, 1, 1, 1, 1, 1, 1, 1, 1, 1, 1, 1, 1, 1, 1, 1, 1, 1, 1, 1, 1, 1, 1, 1, 1, 1, 1, 1, 1, 1, 1, 1, 1, 1, 1, 1, 1, 1, 1, 1, 1, 1, 1, 1, 1, 1, 1, 1, 1, 1, 1, 1, 1, 1, 1, 1, 1, 1, 1, 1, 1, 1, 1, 1, 1, 1, 1, 1, 1, 1, 1, 1, 1, 1, 1, 1, 1, 1, 1, 1, 1, 1, 1, 1, 1, 1, 1, 1, 1, 1, 1, 1, 1, 1, 1, 1, 1, 1, 1, 1, 1, 1, 1, 1, 1, 1, 1, 1, 1, 1, 1, 1, 1, 1, 1, 1, 1, 1, 1, 1, 1, 1, 1, 1, 1, 1, 1, 1, 1, 1, 1, 1, 1, 1, 1, 1, 1, 1, 1, 1, 1, 1, 2, 2, 2, 2, 2, 2, 2, 2, 2, 2, 2, 2, 2, 2, 2, 2, 2, 2, 2, 2, 2, 2, 2, 2, 2, 2, 2, 2, 2, 2, 2, 2, 2, 2, 2, 2, 2, 2, 2, 2, 2, 2, 2, 2, 2, 2, 2, 2, 2, 2, 2, 2, 2, 2, 2, 2, 2, 2, 2, 2, 2, 2, 2, 2, 2, 2, 2, 2, 2, 2, 2, 2, 2, 2, 2, 2, 2, 2, 2, 2, 2, 2, 2, 2, 2, 2, 2, 2, 2, 2, 2, 2, 2, 2, 2, 2, 2, 2, 2, 2, 2, 2, 2, 2, 2, 2, 2, 2, 2, 2, 2, 2, 2, 2, 2, 2, 2, 2, 2, 2, 2, 2, 2, 2, 2, 2, 2, 2, 2, 2, 2, 2, 2, 2, 2, 2, 2, 2, 2, 2, 2, 2, 2, 2, 2, 2, 2, 2, 2, 2, 2, 2, 2, 2, 2, 2, 2, 2, 2, 2, 2, 2, 2, 2, 2, 2, 2, 2, 2, 2, 2, 2, 2, 2, 2, 2, 2, 2, 2, 2, 2, 2, 2, 2, 2, 2, 2, 2, 2, 2, 2, 2, 2, 2, 2, 2, 2, 2, 2, 2, 2, 2, 2, 2, 2, 2, 2, 2, 2, 2, 2, 2, 2, 2, 2, 2, 2, 2, 2, 2, 2, 2, 2, 2, 2, 2, 2, 2, 2, 2, 2, 2, 2, 2, 2, 2, 2, 2, 2, 2, 2, 2, 2, 2, 2, 2, 2, 2, 2, 2, 3, 3, 3, 3, 3, 3, 3, 3, 3, 3, 3, 3, 3, 3, 3, 3, 3, 3, 3, 3, 3, 3, 3, 3, 3, 3, 3, 3, 3, 3, 3, 3, 3, 3, 3, 3, 3, 3, 3, 3, 3, 3, 3, 3, 3, 3, 3, 3, 3, 3, 3, 3, 3, 3, 3, 3, 3, 3, 3, 3, 3, 3, 3, 3, 3, 3, 3, 3, 3, 3, 3, 3, 3, 3, 3, 3, 3, 3, 3, 3, 3, 3, 3, 3, 3, 3, 3, 3, 3, 3, 3, 3, 3, 3, 3, 3, 3, 3, 3, 3, 3, 3, 3, 3, 3, 3, 3, 3, 3, 3, 3, 3, 3, 3, 3, 3, 3, 3, 3, 3, 3, 3, 3, 3, 3, 3, 3, 3, 3, 3, 3, 3, 3, 3, 3, 3, 3, 3, 3, 3, 3, 3, 3, 3, 3, 3, 3, 3, 3, 3, 3, 3, 3, 3, 3, 3, 3, 3, 3, 3, 3, 3, 3, 3, 3, 3, 3, 3, 3, 3, 3, 3, 3, 3, 3, 3, 3, 3, 3, 3, 3, 3, 3, 3, 3, 3, 3, 3, 3, 3, 3, 3, 3, 3, 3, 3, 3, 3, 3, 3, 3, 3, 3, 3, 3, 3, 3, 3, 3, 3, 3, 3, 3, 3, 3, 3, 3, 3, 3, 3, 3, 3, 3, 3, 3, 3, 3, 3, 3, 3, 3, 3, 3, 3, 3, 3, 3, 3, 3, 3, 3, 3, 3, 3, 3, 3, 3, 3, 3, 3]\n"
     ]
    }
   ],
   "source": [
    "l1 = [0]*int(n/4)\n",
    "l2 = [1]*int(n/4)\n",
    "l3 = [2] * int(n/4)\n",
    "l4 = [3] * int(n/4)\n",
    "labels = l1+l2+l3 +l4\n",
    "print(labels)"
   ]
  },
  {
   "cell_type": "code",
   "execution_count": 28,
   "metadata": {
    "id": "7WlzWFctxLQS"
   },
   "outputs": [],
   "source": [
    "dt = pd.DataFrame({'X':X, 'Y':Y, 'Z': Z}, columns=['X', 'Y', 'Z'])\n",
    "X_train, X_test, Y_train, Y_test = train_test_split(dt, labels, test_size = 0.2, random_state = 0)\n",
    "train_data = X_train\n",
    "test_data = X_test\n",
    "train_data.insert(loc=3, column='L', value=Y_train)\n",
    "test_data.insert(loc=3, column='L', value=Y_test)\n",
    "\n"
   ]
  },
  {
   "cell_type": "code",
   "execution_count": 29,
   "metadata": {
    "colab": {
     "base_uri": "https://localhost:8080/"
    },
    "id": "FJpxhlI5znau",
    "outputId": "6a775dd8-fd13-452a-eb23-789d0795300c"
   },
   "outputs": [
    {
     "name": "stdout",
     "output_type": "stream",
     "text": [
      "Accuracy of the predicitions on the test dataset is 0.895\n"
     ]
    }
   ],
   "source": [
    "pred_results = []\n",
    "correct_answers = 0\n",
    "for index, test in test_data.iterrows():\n",
    "  output = knn(test, train_data, 3)\n",
    "  pred_results.append(output)\n",
    "  if output == test[\"L\"]:\n",
    "    correct_answers += 1\n",
    "print(\"Accuracy of the predicitions on the test dataset is {0}\".format(correct_answers/len(test_data)))"
   ]
  },
  {
   "cell_type": "code",
   "execution_count": null,
   "metadata": {
    "colab": {
     "base_uri": "https://localhost:8080/",
     "height": 424
    },
    "id": "nmdqL0CtzEkX",
    "outputId": "b9c7a89b-3f82-4b30-bd2e-d4e1169751a6"
   },
   "outputs": [
    {
     "data": {
      "text/html": [
       "\n",
       "  <div id=\"df-4135ea08-c66c-4635-bf4e-113c64001b13\">\n",
       "    <div class=\"colab-df-container\">\n",
       "      <div>\n",
       "<style scoped>\n",
       "    .dataframe tbody tr th:only-of-type {\n",
       "        vertical-align: middle;\n",
       "    }\n",
       "\n",
       "    .dataframe tbody tr th {\n",
       "        vertical-align: top;\n",
       "    }\n",
       "\n",
       "    .dataframe thead th {\n",
       "        text-align: right;\n",
       "    }\n",
       "</style>\n",
       "<table border=\"1\" class=\"dataframe\">\n",
       "  <thead>\n",
       "    <tr style=\"text-align: right;\">\n",
       "      <th></th>\n",
       "      <th>X</th>\n",
       "      <th>Y</th>\n",
       "      <th>Z</th>\n",
       "      <th>L</th>\n",
       "    </tr>\n",
       "  </thead>\n",
       "  <tbody>\n",
       "    <tr>\n",
       "      <th>77</th>\n",
       "      <td>1.922255</td>\n",
       "      <td>-0.600217</td>\n",
       "      <td>-1.739793</td>\n",
       "      <td>3</td>\n",
       "    </tr>\n",
       "    <tr>\n",
       "      <th>71</th>\n",
       "      <td>1.132735</td>\n",
       "      <td>-1.435862</td>\n",
       "      <td>4.848767</td>\n",
       "      <td>2</td>\n",
       "    </tr>\n",
       "    <tr>\n",
       "      <th>92</th>\n",
       "      <td>3.504987</td>\n",
       "      <td>-0.589365</td>\n",
       "      <td>-1.335560</td>\n",
       "      <td>3</td>\n",
       "    </tr>\n",
       "    <tr>\n",
       "      <th>91</th>\n",
       "      <td>2.885264</td>\n",
       "      <td>-0.493001</td>\n",
       "      <td>-2.239227</td>\n",
       "      <td>3</td>\n",
       "    </tr>\n",
       "    <tr>\n",
       "      <th>20</th>\n",
       "      <td>-2.208968</td>\n",
       "      <td>-0.889514</td>\n",
       "      <td>-1.738631</td>\n",
       "      <td>0</td>\n",
       "    </tr>\n",
       "    <tr>\n",
       "      <th>...</th>\n",
       "      <td>...</td>\n",
       "      <td>...</td>\n",
       "      <td>...</td>\n",
       "      <td>...</td>\n",
       "    </tr>\n",
       "    <tr>\n",
       "      <th>63</th>\n",
       "      <td>3.651391</td>\n",
       "      <td>-1.024388</td>\n",
       "      <td>4.329840</td>\n",
       "      <td>2</td>\n",
       "    </tr>\n",
       "    <tr>\n",
       "      <th>23</th>\n",
       "      <td>-4.401851</td>\n",
       "      <td>0.341152</td>\n",
       "      <td>-0.868542</td>\n",
       "      <td>0</td>\n",
       "    </tr>\n",
       "    <tr>\n",
       "      <th>72</th>\n",
       "      <td>3.686260</td>\n",
       "      <td>1.163164</td>\n",
       "      <td>4.030496</td>\n",
       "      <td>2</td>\n",
       "    </tr>\n",
       "    <tr>\n",
       "      <th>9</th>\n",
       "      <td>-3.074446</td>\n",
       "      <td>0.656554</td>\n",
       "      <td>0.686639</td>\n",
       "      <td>0</td>\n",
       "    </tr>\n",
       "    <tr>\n",
       "      <th>35</th>\n",
       "      <td>-1.450066</td>\n",
       "      <td>0.714000</td>\n",
       "      <td>-0.029635</td>\n",
       "      <td>1</td>\n",
       "    </tr>\n",
       "  </tbody>\n",
       "</table>\n",
       "<p>100 rows × 4 columns</p>\n",
       "</div>\n",
       "      <button class=\"colab-df-convert\" onclick=\"convertToInteractive('df-4135ea08-c66c-4635-bf4e-113c64001b13')\"\n",
       "              title=\"Convert this dataframe to an interactive table.\"\n",
       "              style=\"display:none;\">\n",
       "        \n",
       "  <svg xmlns=\"http://www.w3.org/2000/svg\" height=\"24px\"viewBox=\"0 0 24 24\"\n",
       "       width=\"24px\">\n",
       "    <path d=\"M0 0h24v24H0V0z\" fill=\"none\"/>\n",
       "    <path d=\"M18.56 5.44l.94 2.06.94-2.06 2.06-.94-2.06-.94-.94-2.06-.94 2.06-2.06.94zm-11 1L8.5 8.5l.94-2.06 2.06-.94-2.06-.94L8.5 2.5l-.94 2.06-2.06.94zm10 10l.94 2.06.94-2.06 2.06-.94-2.06-.94-.94-2.06-.94 2.06-2.06.94z\"/><path d=\"M17.41 7.96l-1.37-1.37c-.4-.4-.92-.59-1.43-.59-.52 0-1.04.2-1.43.59L10.3 9.45l-7.72 7.72c-.78.78-.78 2.05 0 2.83L4 21.41c.39.39.9.59 1.41.59.51 0 1.02-.2 1.41-.59l7.78-7.78 2.81-2.81c.8-.78.8-2.07 0-2.86zM5.41 20L4 18.59l7.72-7.72 1.47 1.35L5.41 20z\"/>\n",
       "  </svg>\n",
       "      </button>\n",
       "      \n",
       "  <style>\n",
       "    .colab-df-container {\n",
       "      display:flex;\n",
       "      flex-wrap:wrap;\n",
       "      gap: 12px;\n",
       "    }\n",
       "\n",
       "    .colab-df-convert {\n",
       "      background-color: #E8F0FE;\n",
       "      border: none;\n",
       "      border-radius: 50%;\n",
       "      cursor: pointer;\n",
       "      display: none;\n",
       "      fill: #1967D2;\n",
       "      height: 32px;\n",
       "      padding: 0 0 0 0;\n",
       "      width: 32px;\n",
       "    }\n",
       "\n",
       "    .colab-df-convert:hover {\n",
       "      background-color: #E2EBFA;\n",
       "      box-shadow: 0px 1px 2px rgba(60, 64, 67, 0.3), 0px 1px 3px 1px rgba(60, 64, 67, 0.15);\n",
       "      fill: #174EA6;\n",
       "    }\n",
       "\n",
       "    [theme=dark] .colab-df-convert {\n",
       "      background-color: #3B4455;\n",
       "      fill: #D2E3FC;\n",
       "    }\n",
       "\n",
       "    [theme=dark] .colab-df-convert:hover {\n",
       "      background-color: #434B5C;\n",
       "      box-shadow: 0px 1px 3px 1px rgba(0, 0, 0, 0.15);\n",
       "      filter: drop-shadow(0px 1px 2px rgba(0, 0, 0, 0.3));\n",
       "      fill: #FFFFFF;\n",
       "    }\n",
       "  </style>\n",
       "\n",
       "      <script>\n",
       "        const buttonEl =\n",
       "          document.querySelector('#df-4135ea08-c66c-4635-bf4e-113c64001b13 button.colab-df-convert');\n",
       "        buttonEl.style.display =\n",
       "          google.colab.kernel.accessAllowed ? 'block' : 'none';\n",
       "\n",
       "        async function convertToInteractive(key) {\n",
       "          const element = document.querySelector('#df-4135ea08-c66c-4635-bf4e-113c64001b13');\n",
       "          const dataTable =\n",
       "            await google.colab.kernel.invokeFunction('convertToInteractive',\n",
       "                                                     [key], {});\n",
       "          if (!dataTable) return;\n",
       "\n",
       "          const docLinkHtml = 'Like what you see? Visit the ' +\n",
       "            '<a target=\"_blank\" href=https://colab.research.google.com/notebooks/data_table.ipynb>data table notebook</a>'\n",
       "            + ' to learn more about interactive tables.';\n",
       "          element.innerHTML = '';\n",
       "          dataTable['output_type'] = 'display_data';\n",
       "          await google.colab.output.renderOutput(dataTable, element);\n",
       "          const docLink = document.createElement('div');\n",
       "          docLink.innerHTML = docLinkHtml;\n",
       "          element.appendChild(docLink);\n",
       "        }\n",
       "      </script>\n",
       "    </div>\n",
       "  </div>\n",
       "  "
      ],
      "text/plain": [
       "           X         Y         Z  L\n",
       "77  1.922255 -0.600217 -1.739793  3\n",
       "71  1.132735 -1.435862  4.848767  2\n",
       "92  3.504987 -0.589365 -1.335560  3\n",
       "91  2.885264 -0.493001 -2.239227  3\n",
       "20 -2.208968 -0.889514 -1.738631  0\n",
       "..       ...       ...       ... ..\n",
       "63  3.651391 -1.024388  4.329840  2\n",
       "23 -4.401851  0.341152 -0.868542  0\n",
       "72  3.686260  1.163164  4.030496  2\n",
       "9  -3.074446  0.656554  0.686639  0\n",
       "35 -1.450066  0.714000 -0.029635  1\n",
       "\n",
       "[100 rows x 4 columns]"
      ]
     },
     "execution_count": 55,
     "metadata": {},
     "output_type": "execute_result"
    }
   ],
   "source": [
    "train_data"
   ]
  },
  {
   "cell_type": "code",
   "execution_count": null,
   "metadata": {
    "colab": {
     "base_uri": "https://localhost:8080/",
     "height": 248
    },
    "id": "bp4wWSfRx_g-",
    "outputId": "91b6f2a0-86a7-4556-9da1-491fe7f6984d"
   },
   "outputs": [
    {
     "data": {
      "image/png": "[encoded data removed]",
      "text/plain": [
       "<Figure size 432x288 with 2 Axes>"
      ]
     },
     "metadata": {
      "needs_background": "light"
     },
     "output_type": "display_data"
    }
   ],
   "source": [
    "\n",
    "ax = plt.subplot(1, 2, 1, projection='3d')\n",
    "ax.scatter(train_data.iloc[:,0], train_data.iloc[:,1], train_data.iloc[:, 2], s= 30, c=train_data.iloc[:, 3], marker=\".\")\n",
    "ax.scatter(test_data.iloc[:,0], test_data.iloc[:,1],  test_data.iloc[:, 2], s = 30, c=test_data.iloc[:, 3], marker=\"v\")\n",
    "\n",
    "plt.title('Actual labels')\n",
    "\n",
    "\n",
    "ax2 = plt.subplot(1, 2, 2, projection='3d')\n",
    "ax2.scatter(train_data.iloc[:,0],train_data.iloc[:,1], train_data.iloc[:, 2], s = 50, c=train_data.iloc[:, 3], marker=\".\")\n",
    "ax2.scatter(test_data.iloc[:,0], test_data.iloc[:,1], test_data.iloc[:, 2], s = 50, c=pred_results, marker=\"v\")\n",
    "plt.title('Predicted labels')\n",
    "plt.show()"
   ]
  }
 ],
 "metadata": {
  "colab": {
   "collapsed_sections": [],
   "name": "Assignmet2_156_Kang.ipynb",
   "provenance": []
  },
  "kernelspec": {
   "display_name": "Python 3 (ipykernel)",
   "language": "python",
   "name": "python3"
  },
  "language_info": {
   "codemirror_mode": {
    "name": "ipython",
    "version": 3
   },
   "file_extension": ".py",
   "mimetype": "text/x-python",
   "name": "python",
   "nbconvert_exporter": "python",
   "pygments_lexer": "ipython3",
   "version": "3.9.7"
  }
 },
 "nbformat": 4,
 "nbformat_minor": 1
}
